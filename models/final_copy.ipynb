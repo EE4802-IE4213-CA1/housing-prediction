{
  "cells": [
    {
      "cell_type": "code",
      "execution_count": 47,
      "metadata": {
        "id": "938Q6vE6w7kb"
      },
      "outputs": [],
      "source": [
        "# import libraries\n",
        "import numpy as np \n",
        "import pandas as pd \n",
        "import seaborn as sns\n",
        "import matplotlib.pyplot as plt\n",
        "\n",
        "df = pd.read_csv('/content/drive/MyDrive/4213 Assignment 1/final_code/latest_hdb.csv', index_col='Unnamed: 0')"
      ]
    },
    {
      "cell_type": "code",
      "execution_count": null,
      "metadata": {
        "id": "OveUnGP7w7kl"
      },
      "outputs": [],
      "source": [
        "dis_ = pd.read_csv('new_HDB_data_w_distance.csv')\n",
        "#dis_.info()"
      ]
    },
    {
      "cell_type": "code",
      "source": [
        "from google.colab import drive\n",
        "drive.mount('/content/drive')"
      ],
      "metadata": {
        "colab": {
          "base_uri": "https://localhost:8080/"
        },
        "id": "ZL8Afv0H7j3b",
        "outputId": "e6b60f50-843a-42af-8a8d-bb71e3f996c4"
      },
      "execution_count": 3,
      "outputs": [
        {
          "output_type": "stream",
          "name": "stdout",
          "text": [
            "Mounted at /content/drive\n"
          ]
        }
      ]
    },
    {
      "cell_type": "code",
      "source": [
        "df.shape"
      ],
      "metadata": {
        "colab": {
          "base_uri": "https://localhost:8080/"
        },
        "id": "oTA7sT1Lq_HV",
        "outputId": "66322b0f-6bfa-4a2f-ac04-58e7966da02f"
      },
      "execution_count": 30,
      "outputs": [
        {
          "output_type": "execute_result",
          "data": {
            "text/plain": [
              "(857396, 13)"
            ]
          },
          "metadata": {},
          "execution_count": 30
        }
      ]
    },
    {
      "cell_type": "code",
      "source": [
        "df.head()"
      ],
      "metadata": {
        "colab": {
          "base_uri": "https://localhost:8080/",
          "height": 478
        },
        "id": "b31n1ig180Ze",
        "outputId": "70966dd6-1609-44a4-8c4e-9348e8e16517"
      },
      "execution_count": 11,
      "outputs": [
        {
          "output_type": "execute_result",
          "data": {
            "text/plain": [
              "        month        town flat_type  floor_area_sqm      flat_model  \\\n",
              "0  1990-01-01  ANG MO KIO    3 ROOM            73.0  new generation   \n",
              "1  1990-01-01  ANG MO KIO    3 ROOM            67.0  new generation   \n",
              "2  1990-01-01  ANG MO KIO    3 ROOM            67.0  new generation   \n",
              "3  1990-01-01  ANG MO KIO    3 ROOM            67.0  new generation   \n",
              "4  1990-01-01  ANG MO KIO    3 ROOM            67.0  new generation   \n",
              "\n",
              "   lease_commence_date  resale_price  market     region  mature  dist to mrt  \\\n",
              "0                 1976       47200.0       0  northeast       1     0.986748   \n",
              "1                 1977       46000.0       0  northeast       1     0.880909   \n",
              "2                 1977       42000.0       0  northeast       1     0.584237   \n",
              "3                 1977       38000.0       0  northeast       1     1.492898   \n",
              "4                 1977       40000.0       0  northeast       1     1.492898   \n",
              "\n",
              "   dist to mall  storey_med  \n",
              "0      0.843877         5.0  \n",
              "1      0.755938         2.0  \n",
              "2      0.447619         8.0  \n",
              "3      1.357627        11.0  \n",
              "4      1.357627         5.0  "
            ],
            "text/html": [
              "\n",
              "  <div id=\"df-ee23d60d-1ca3-4308-95aa-20725024ce41\">\n",
              "    <div class=\"colab-df-container\">\n",
              "      <div>\n",
              "<style scoped>\n",
              "    .dataframe tbody tr th:only-of-type {\n",
              "        vertical-align: middle;\n",
              "    }\n",
              "\n",
              "    .dataframe tbody tr th {\n",
              "        vertical-align: top;\n",
              "    }\n",
              "\n",
              "    .dataframe thead th {\n",
              "        text-align: right;\n",
              "    }\n",
              "</style>\n",
              "<table border=\"1\" class=\"dataframe\">\n",
              "  <thead>\n",
              "    <tr style=\"text-align: right;\">\n",
              "      <th></th>\n",
              "      <th>month</th>\n",
              "      <th>town</th>\n",
              "      <th>flat_type</th>\n",
              "      <th>floor_area_sqm</th>\n",
              "      <th>flat_model</th>\n",
              "      <th>lease_commence_date</th>\n",
              "      <th>resale_price</th>\n",
              "      <th>market</th>\n",
              "      <th>region</th>\n",
              "      <th>mature</th>\n",
              "      <th>dist to mrt</th>\n",
              "      <th>dist to mall</th>\n",
              "      <th>storey_med</th>\n",
              "    </tr>\n",
              "  </thead>\n",
              "  <tbody>\n",
              "    <tr>\n",
              "      <th>0</th>\n",
              "      <td>1990-01-01</td>\n",
              "      <td>ANG MO KIO</td>\n",
              "      <td>3 ROOM</td>\n",
              "      <td>73.0</td>\n",
              "      <td>new generation</td>\n",
              "      <td>1976</td>\n",
              "      <td>47200.0</td>\n",
              "      <td>0</td>\n",
              "      <td>northeast</td>\n",
              "      <td>1</td>\n",
              "      <td>0.986748</td>\n",
              "      <td>0.843877</td>\n",
              "      <td>5.0</td>\n",
              "    </tr>\n",
              "    <tr>\n",
              "      <th>1</th>\n",
              "      <td>1990-01-01</td>\n",
              "      <td>ANG MO KIO</td>\n",
              "      <td>3 ROOM</td>\n",
              "      <td>67.0</td>\n",
              "      <td>new generation</td>\n",
              "      <td>1977</td>\n",
              "      <td>46000.0</td>\n",
              "      <td>0</td>\n",
              "      <td>northeast</td>\n",
              "      <td>1</td>\n",
              "      <td>0.880909</td>\n",
              "      <td>0.755938</td>\n",
              "      <td>2.0</td>\n",
              "    </tr>\n",
              "    <tr>\n",
              "      <th>2</th>\n",
              "      <td>1990-01-01</td>\n",
              "      <td>ANG MO KIO</td>\n",
              "      <td>3 ROOM</td>\n",
              "      <td>67.0</td>\n",
              "      <td>new generation</td>\n",
              "      <td>1977</td>\n",
              "      <td>42000.0</td>\n",
              "      <td>0</td>\n",
              "      <td>northeast</td>\n",
              "      <td>1</td>\n",
              "      <td>0.584237</td>\n",
              "      <td>0.447619</td>\n",
              "      <td>8.0</td>\n",
              "    </tr>\n",
              "    <tr>\n",
              "      <th>3</th>\n",
              "      <td>1990-01-01</td>\n",
              "      <td>ANG MO KIO</td>\n",
              "      <td>3 ROOM</td>\n",
              "      <td>67.0</td>\n",
              "      <td>new generation</td>\n",
              "      <td>1977</td>\n",
              "      <td>38000.0</td>\n",
              "      <td>0</td>\n",
              "      <td>northeast</td>\n",
              "      <td>1</td>\n",
              "      <td>1.492898</td>\n",
              "      <td>1.357627</td>\n",
              "      <td>11.0</td>\n",
              "    </tr>\n",
              "    <tr>\n",
              "      <th>4</th>\n",
              "      <td>1990-01-01</td>\n",
              "      <td>ANG MO KIO</td>\n",
              "      <td>3 ROOM</td>\n",
              "      <td>67.0</td>\n",
              "      <td>new generation</td>\n",
              "      <td>1977</td>\n",
              "      <td>40000.0</td>\n",
              "      <td>0</td>\n",
              "      <td>northeast</td>\n",
              "      <td>1</td>\n",
              "      <td>1.492898</td>\n",
              "      <td>1.357627</td>\n",
              "      <td>5.0</td>\n",
              "    </tr>\n",
              "  </tbody>\n",
              "</table>\n",
              "</div>\n",
              "      <button class=\"colab-df-convert\" onclick=\"convertToInteractive('df-ee23d60d-1ca3-4308-95aa-20725024ce41')\"\n",
              "              title=\"Convert this dataframe to an interactive table.\"\n",
              "              style=\"display:none;\">\n",
              "        \n",
              "  <svg xmlns=\"http://www.w3.org/2000/svg\" height=\"24px\"viewBox=\"0 0 24 24\"\n",
              "       width=\"24px\">\n",
              "    <path d=\"M0 0h24v24H0V0z\" fill=\"none\"/>\n",
              "    <path d=\"M18.56 5.44l.94 2.06.94-2.06 2.06-.94-2.06-.94-.94-2.06-.94 2.06-2.06.94zm-11 1L8.5 8.5l.94-2.06 2.06-.94-2.06-.94L8.5 2.5l-.94 2.06-2.06.94zm10 10l.94 2.06.94-2.06 2.06-.94-2.06-.94-.94-2.06-.94 2.06-2.06.94z\"/><path d=\"M17.41 7.96l-1.37-1.37c-.4-.4-.92-.59-1.43-.59-.52 0-1.04.2-1.43.59L10.3 9.45l-7.72 7.72c-.78.78-.78 2.05 0 2.83L4 21.41c.39.39.9.59 1.41.59.51 0 1.02-.2 1.41-.59l7.78-7.78 2.81-2.81c.8-.78.8-2.07 0-2.86zM5.41 20L4 18.59l7.72-7.72 1.47 1.35L5.41 20z\"/>\n",
              "  </svg>\n",
              "      </button>\n",
              "      \n",
              "  <style>\n",
              "    .colab-df-container {\n",
              "      display:flex;\n",
              "      flex-wrap:wrap;\n",
              "      gap: 12px;\n",
              "    }\n",
              "\n",
              "    .colab-df-convert {\n",
              "      background-color: #E8F0FE;\n",
              "      border: none;\n",
              "      border-radius: 50%;\n",
              "      cursor: pointer;\n",
              "      display: none;\n",
              "      fill: #1967D2;\n",
              "      height: 32px;\n",
              "      padding: 0 0 0 0;\n",
              "      width: 32px;\n",
              "    }\n",
              "\n",
              "    .colab-df-convert:hover {\n",
              "      background-color: #E2EBFA;\n",
              "      box-shadow: 0px 1px 2px rgba(60, 64, 67, 0.3), 0px 1px 3px 1px rgba(60, 64, 67, 0.15);\n",
              "      fill: #174EA6;\n",
              "    }\n",
              "\n",
              "    [theme=dark] .colab-df-convert {\n",
              "      background-color: #3B4455;\n",
              "      fill: #D2E3FC;\n",
              "    }\n",
              "\n",
              "    [theme=dark] .colab-df-convert:hover {\n",
              "      background-color: #434B5C;\n",
              "      box-shadow: 0px 1px 3px 1px rgba(0, 0, 0, 0.15);\n",
              "      filter: drop-shadow(0px 1px 2px rgba(0, 0, 0, 0.3));\n",
              "      fill: #FFFFFF;\n",
              "    }\n",
              "  </style>\n",
              "\n",
              "      <script>\n",
              "        const buttonEl =\n",
              "          document.querySelector('#df-ee23d60d-1ca3-4308-95aa-20725024ce41 button.colab-df-convert');\n",
              "        buttonEl.style.display =\n",
              "          google.colab.kernel.accessAllowed ? 'block' : 'none';\n",
              "\n",
              "        async function convertToInteractive(key) {\n",
              "          const element = document.querySelector('#df-ee23d60d-1ca3-4308-95aa-20725024ce41');\n",
              "          const dataTable =\n",
              "            await google.colab.kernel.invokeFunction('convertToInteractive',\n",
              "                                                     [key], {});\n",
              "          if (!dataTable) return;\n",
              "\n",
              "          const docLinkHtml = 'Like what you see? Visit the ' +\n",
              "            '<a target=\"_blank\" href=https://colab.research.google.com/notebooks/data_table.ipynb>data table notebook</a>'\n",
              "            + ' to learn more about interactive tables.';\n",
              "          element.innerHTML = '';\n",
              "          dataTable['output_type'] = 'display_data';\n",
              "          await google.colab.output.renderOutput(dataTable, element);\n",
              "          const docLink = document.createElement('div');\n",
              "          docLink.innerHTML = docLinkHtml;\n",
              "          element.appendChild(docLink);\n",
              "        }\n",
              "      </script>\n",
              "    </div>\n",
              "  </div>\n",
              "  "
            ]
          },
          "metadata": {},
          "execution_count": 11
        }
      ]
    },
    {
      "cell_type": "code",
      "execution_count": null,
      "metadata": {
        "id": "zKNoOYYUw7km",
        "outputId": "93c72ac8-a519-493e-b82e-b4513c5e47f7"
      },
      "outputs": [
        {
          "data": {
            "image/png": "[encoded data removed]",
            "text/plain": [
              "<Figure size 432x288 with 1 Axes>"
            ]
          },
          "metadata": {
            "needs_background": "light"
          },
          "output_type": "display_data"
        }
      ],
      "source": [
        "plt.hist(df['resale_price'], bins=50)\n",
        "plt.title('Resale price distribution')\n",
        "plt.show()\n"
      ]
    },
    {
      "cell_type": "markdown",
      "metadata": {
        "id": "dM8r2RNlw7kz"
      },
      "source": [
        "We can see that the distribution of resale HDB price is rightly skewed. Since regression model assume normality, we consider performing log transform on resale HDB price to make it closer to normal distribution."
      ]
    },
    {
      "cell_type": "code",
      "execution_count": null,
      "metadata": {
        "id": "sBfPebJkw7k4"
      },
      "outputs": [],
      "source": [
        "# map dist to nearest mrt\n",
        "mappin = dict(dis_[['full_address', 'dist to mrt']].values)\n",
        "df['dist to mrt'] = df.address.map(mappin)"
      ]
    },
    {
      "cell_type": "code",
      "execution_count": null,
      "metadata": {
        "id": "PXhHW6kXw7k5",
        "outputId": "11c1a008-988c-45ab-eb66-76d1f8277ec7"
      },
      "outputs": [
        {
          "data": {
            "text/plain": [
              "<matplotlib.legend.Legend at 0x7f9fc0e918b0>"
            ]
          },
          "execution_count": 6,
          "metadata": {},
          "output_type": "execute_result"
        },
        {
          "data": {
            "image/png": "[encoded data removed]",
            "text/plain": [
              "<Figure size 1440x432 with 1 Axes>"
            ]
          },
          "metadata": {
            "needs_background": "light"
          },
          "output_type": "display_data"
        }
      ],
      "source": [
        "df1 = df.copy()\n",
        "df1['month'] = pd.to_datetime(df1['month'])\n",
        "df1.set_index('month', inplace=True)\n",
        "y = df1['resale_price']\n",
        "fig, ax = plt.subplots(figsize=(20, 6))\n",
        "ax.plot(y,marker='.', linestyle='-', linewidth=0.5, label='Weekly')\n",
        "ax.plot(y.resample('Y').mean(),marker='o', markersize=8, linestyle='-', label='Monthly Mean Resample')\n",
        "ax.set_ylabel('Price')\n",
        "ax.legend()"
      ]
    },
    {
      "cell_type": "code",
      "execution_count": null,
      "metadata": {
        "id": "VLQWU6_xw7lD",
        "outputId": "0335ba9f-6bb4-4d6c-c2b3-7e7348f9a070"
      },
      "outputs": [
        {
          "data": {
            "text/plain": [
              "0"
            ]
          },
          "execution_count": 7,
          "metadata": {},
          "output_type": "execute_result"
        }
      ],
      "source": [
        "y.isnull().sum()"
      ]
    },
    {
      "cell_type": "code",
      "execution_count": null,
      "metadata": {
        "id": "G25WBrHxw7lF"
      },
      "outputs": [],
      "source": [
        "import statsmodels.api as sm\n",
        "\n",
        "# graphs to show seasonal_decompose\n",
        "def seasonal_decompose (y):\n",
        "    decomposition = sm.tsa.seasonal_decompose(y, model='additive',extrapolate_trend='freq', period=2)\n",
        "    fig = decomposition.plot()\n",
        "    fig.set_size_inches(14,7)\n",
        "    plt.show()"
      ]
    },
    {
      "cell_type": "code",
      "execution_count": null,
      "metadata": {
        "id": "bWTkkFUZw7lS",
        "outputId": "b12b7fa4-6888-462e-ff34-6eebdff08082"
      },
      "outputs": [
        {
          "data": {
            "image/png": "[encoded data removed]",
            "text/plain": [
              "<Figure size 1008x504 with 4 Axes>"
            ]
          },
          "metadata": {
            "needs_background": "light"
          },
          "output_type": "display_data"
        }
      ],
      "source": [
        "seasonal_decompose(y)"
      ]
    },
    {
      "cell_type": "code",
      "execution_count": null,
      "metadata": {
        "id": "cVq9AmxEw7lY"
      },
      "outputs": [],
      "source": [
        "# map dist to nearest mall\n",
        "mappin = dict(dis_[['full_address', 'dist to mall']].values)\n",
        "df['dist to mall'] = df.address.map(mappin)"
      ]
    },
    {
      "cell_type": "code",
      "execution_count": null,
      "metadata": {
        "id": "b9KslYPKw7lb"
      },
      "outputs": [],
      "source": [
        "r_list = df['storey_range'].unique()\n",
        "storey_d = {}\n",
        "for i in r_list:\n",
        "    if i not in storey_d:\n",
        "        med_storey = .5*(float(i.split()[0])+float(i.split()[2]))\n",
        "        storey_d[i] = med_storey"
      ]
    },
    {
      "cell_type": "code",
      "execution_count": null,
      "metadata": {
        "id": "DyW7rolmw7lc"
      },
      "outputs": [],
      "source": [
        "df.replace({'flat_type': 'MULTI-GENERATION'}, {'flat_type': 'MULTI GENERATION'}, regex=True, inplace = True)"
      ]
    },
    {
      "cell_type": "code",
      "execution_count": null,
      "metadata": {
        "id": "6CTuExq4w7lf",
        "outputId": "2d5c8415-252f-474c-b7ff-7add599e6199"
      },
      "outputs": [
        {
          "data": {
            "text/plain": [
              "array(['3 ROOM', '4 ROOM', '5 ROOM', '2 ROOM', 'EXECUTIVE', '1 ROOM',\n",
              "       'MULTI GENERATION'], dtype=object)"
            ]
          },
          "execution_count": 13,
          "metadata": {},
          "output_type": "execute_result"
        }
      ],
      "source": [
        "df['flat_type'].unique()"
      ]
    },
    {
      "cell_type": "code",
      "execution_count": null,
      "metadata": {
        "id": "dhI4l9DOw7li"
      },
      "outputs": [],
      "source": [
        "df['storey_med'] = df['storey_range'].map(storey_d)\n",
        "market_d = {\n",
        "    'N':0,\n",
        "    'Y':1\n",
        "}\n",
        "\n",
        "df['market'] = df['market'].map(market_d)"
      ]
    },
    {
      "cell_type": "markdown",
      "metadata": {
        "id": "nqhIslOUw7lj"
      },
      "source": [
        "There are some inaccurate data which causes extreme values. Thus, we will have to remove them."
      ]
    },
    {
      "cell_type": "code",
      "execution_count": 48,
      "metadata": {
        "colab": {
          "base_uri": "https://localhost:8080/"
        },
        "id": "aGY_Oc13w7ls",
        "outputId": "e519a75a-2bb3-4696-c22e-55ef35685019"
      },
      "outputs": [
        {
          "output_type": "stream",
          "name": "stdout",
          "text": [
            "<class 'pandas.core.frame.DataFrame'>\n",
            "RangeIndex: 857396 entries, 0 to 857395\n",
            "Data columns (total 13 columns):\n",
            " #   Column               Non-Null Count   Dtype  \n",
            "---  ------               --------------   -----  \n",
            " 0   month                857396 non-null  object \n",
            " 1   town                 857396 non-null  object \n",
            " 2   flat_type            857396 non-null  object \n",
            " 3   floor_area_sqm       857396 non-null  float64\n",
            " 4   flat_model           857396 non-null  object \n",
            " 5   lease_commence_date  857396 non-null  int64  \n",
            " 6   resale_price         857396 non-null  float64\n",
            " 7   market               857396 non-null  int64  \n",
            " 8   region               857396 non-null  object \n",
            " 9   mature               857396 non-null  int64  \n",
            " 10  dist to mrt          857396 non-null  float64\n",
            " 11  dist to mall         857396 non-null  float64\n",
            " 12  storey_med           857396 non-null  float64\n",
            "dtypes: float64(5), int64(3), object(5)\n",
            "memory usage: 85.0+ MB\n"
          ]
        }
      ],
      "source": [
        "df = df.drop(df[df['dist to mall'] >= 3].index).reset_index(drop=True)\n",
        "df.info()"
      ]
    },
    {
      "cell_type": "code",
      "source": [
        "#df_new = df.drop(df[df['month'] <= '2017-03-01'].index).reset_index(drop=True)"
      ],
      "metadata": {
        "id": "O0WXulbJxFc1"
      },
      "execution_count": 49,
      "outputs": []
    },
    {
      "cell_type": "code",
      "execution_count": null,
      "metadata": {
        "id": "EDyDceyYw7lw",
        "outputId": "18500a93-dbd4-4991-904c-c2813f526c29"
      },
      "outputs": [
        {
          "name": "stdout",
          "output_type": "stream",
          "text": [
            "<class 'pandas.core.frame.DataFrame'>\n",
            "RangeIndex: 857396 entries, 0 to 857395\n",
            "Data columns (total 13 columns):\n",
            " #   Column               Non-Null Count   Dtype  \n",
            "---  ------               --------------   -----  \n",
            " 0   month                857396 non-null  object \n",
            " 1   town                 857396 non-null  object \n",
            " 2   flat_type            857396 non-null  object \n",
            " 3   floor_area_sqm       857396 non-null  float64\n",
            " 4   flat_model           857396 non-null  object \n",
            " 5   lease_commence_date  857396 non-null  int64  \n",
            " 6   resale_price         857396 non-null  float64\n",
            " 7   market               857396 non-null  int64  \n",
            " 8   region               857396 non-null  object \n",
            " 9   mature               857396 non-null  int64  \n",
            " 10  dist to mrt          857396 non-null  float64\n",
            " 11  dist to mall         857396 non-null  float64\n",
            " 12  storey_med           857396 non-null  float64\n",
            "dtypes: float64(5), int64(3), object(5)\n",
            "memory usage: 85.0+ MB\n"
          ]
        }
      ],
      "source": [
        "drop_l = ['block','street_name','lat','lati','lon','address','storey_range','age']\n",
        "df = df.drop(drop_l,axis=1).reset_index(drop=True)\n",
        "df.info()"
      ]
    },
    {
      "cell_type": "code",
      "execution_count": 52,
      "metadata": {
        "id": "eeVOmtGdw7l5"
      },
      "outputs": [],
      "source": [
        "#Prepare our X and y data for regression:\n",
        "from sklearn.preprocessing import OrdinalEncoder\n",
        "from sklearn.preprocessing import OneHotEncoder\n",
        "from sklearn.compose import ColumnTransformer\n",
        "from sklearn.preprocessing import MinMaxScaler"
      ]
    },
    {
      "cell_type": "code",
      "execution_count": 53,
      "metadata": {
        "id": "C8GrNdtbw7l7"
      },
      "outputs": [],
      "source": [
        "pipeline = ColumnTransformer([\n",
        "                              ('o', OrdinalEncoder(), ['month','flat_type']),\n",
        "                              ('n', OneHotEncoder(), ['flat_model','town','region']),\n",
        "], remainder='passthrough')\n",
        "\n",
        "X = pipeline.fit_transform(df.drop(['resale_price'],axis=1))\n",
        "y = df['resale_price']"
      ]
    },
    {
      "cell_type": "code",
      "source": [
        "import pickle"
      ],
      "metadata": {
        "id": "FDTJPfJefaNp"
      },
      "execution_count": 9,
      "outputs": []
    },
    {
      "cell_type": "code",
      "source": [
        "pickle.dump(pipeline, open('lr_encoder.pkl', 'wb'))"
      ],
      "metadata": {
        "id": "eB4PdSKqAkdY"
      },
      "execution_count": 10,
      "outputs": []
    },
    {
      "cell_type": "code",
      "execution_count": 54,
      "metadata": {
        "colab": {
          "base_uri": "https://localhost:8080/",
          "height": 334
        },
        "id": "2Zf2uMPNw7l8",
        "outputId": "8441e8d8-5dbd-4184-da19-581fbc06947c"
      },
      "outputs": [
        {
          "output_type": "execute_result",
          "data": {
            "text/plain": [
              "   month  type  2-room  adjoined flat  apartment  dbss  improved  \\\n",
              "0    0.0   2.0     0.0            0.0        0.0   0.0       0.0   \n",
              "1    0.0   2.0     0.0            0.0        0.0   0.0       0.0   \n",
              "2    0.0   2.0     0.0            0.0        0.0   0.0       0.0   \n",
              "3    0.0   2.0     0.0            0.0        0.0   0.0       0.0   \n",
              "4    0.0   2.0     0.0            0.0        0.0   0.0       0.0   \n",
              "\n",
              "   improved-maisonette  maisonette  model a  ...  northeast  west  Area  \\\n",
              "0                  0.0         0.0      0.0  ...        1.0   0.0  73.0   \n",
              "1                  0.0         0.0      0.0  ...        1.0   0.0  67.0   \n",
              "2                  0.0         0.0      0.0  ...        1.0   0.0  67.0   \n",
              "3                  0.0         0.0      0.0  ...        1.0   0.0  67.0   \n",
              "4                  0.0         0.0      0.0  ...        1.0   0.0  67.0   \n",
              "\n",
              "    Lease  market\\hawker?  town maturity  dist to mrt  dist to mall  storey  \\\n",
              "0  1976.0             0.0            1.0     0.986748      0.843877     5.0   \n",
              "1  1977.0             0.0            1.0     0.880909      0.755938     2.0   \n",
              "2  1977.0             0.0            1.0     0.584237      0.447619     8.0   \n",
              "3  1977.0             0.0            1.0     1.492898      1.357627    11.0   \n",
              "4  1977.0             0.0            1.0     1.492898      1.357627     5.0   \n",
              "\n",
              "   resale_price  \n",
              "0       47200.0  \n",
              "1       46000.0  \n",
              "2       42000.0  \n",
              "3       38000.0  \n",
              "4       40000.0  \n",
              "\n",
              "[5 rows x 61 columns]"
            ],
            "text/html": [
              "\n",
              "  <div id=\"df-e4627fe2-c9b3-4665-b156-5cee6e1e725c\">\n",
              "    <div class=\"colab-df-container\">\n",
              "      <div>\n",
              "<style scoped>\n",
              "    .dataframe tbody tr th:only-of-type {\n",
              "        vertical-align: middle;\n",
              "    }\n",
              "\n",
              "    .dataframe tbody tr th {\n",
              "        vertical-align: top;\n",
              "    }\n",
              "\n",
              "    .dataframe thead th {\n",
              "        text-align: right;\n",
              "    }\n",
              "</style>\n",
              "<table border=\"1\" class=\"dataframe\">\n",
              "  <thead>\n",
              "    <tr style=\"text-align: right;\">\n",
              "      <th></th>\n",
              "      <th>month</th>\n",
              "      <th>type</th>\n",
              "      <th>2-room</th>\n",
              "      <th>adjoined flat</th>\n",
              "      <th>apartment</th>\n",
              "      <th>dbss</th>\n",
              "      <th>improved</th>\n",
              "      <th>improved-maisonette</th>\n",
              "      <th>maisonette</th>\n",
              "      <th>model a</th>\n",
              "      <th>...</th>\n",
              "      <th>northeast</th>\n",
              "      <th>west</th>\n",
              "      <th>Area</th>\n",
              "      <th>Lease</th>\n",
              "      <th>market\\hawker?</th>\n",
              "      <th>town maturity</th>\n",
              "      <th>dist to mrt</th>\n",
              "      <th>dist to mall</th>\n",
              "      <th>storey</th>\n",
              "      <th>resale_price</th>\n",
              "    </tr>\n",
              "  </thead>\n",
              "  <tbody>\n",
              "    <tr>\n",
              "      <th>0</th>\n",
              "      <td>0.0</td>\n",
              "      <td>2.0</td>\n",
              "      <td>0.0</td>\n",
              "      <td>0.0</td>\n",
              "      <td>0.0</td>\n",
              "      <td>0.0</td>\n",
              "      <td>0.0</td>\n",
              "      <td>0.0</td>\n",
              "      <td>0.0</td>\n",
              "      <td>0.0</td>\n",
              "      <td>...</td>\n",
              "      <td>1.0</td>\n",
              "      <td>0.0</td>\n",
              "      <td>73.0</td>\n",
              "      <td>1976.0</td>\n",
              "      <td>0.0</td>\n",
              "      <td>1.0</td>\n",
              "      <td>0.986748</td>\n",
              "      <td>0.843877</td>\n",
              "      <td>5.0</td>\n",
              "      <td>47200.0</td>\n",
              "    </tr>\n",
              "    <tr>\n",
              "      <th>1</th>\n",
              "      <td>0.0</td>\n",
              "      <td>2.0</td>\n",
              "      <td>0.0</td>\n",
              "      <td>0.0</td>\n",
              "      <td>0.0</td>\n",
              "      <td>0.0</td>\n",
              "      <td>0.0</td>\n",
              "      <td>0.0</td>\n",
              "      <td>0.0</td>\n",
              "      <td>0.0</td>\n",
              "      <td>...</td>\n",
              "      <td>1.0</td>\n",
              "      <td>0.0</td>\n",
              "      <td>67.0</td>\n",
              "      <td>1977.0</td>\n",
              "      <td>0.0</td>\n",
              "      <td>1.0</td>\n",
              "      <td>0.880909</td>\n",
              "      <td>0.755938</td>\n",
              "      <td>2.0</td>\n",
              "      <td>46000.0</td>\n",
              "    </tr>\n",
              "    <tr>\n",
              "      <th>2</th>\n",
              "      <td>0.0</td>\n",
              "      <td>2.0</td>\n",
              "      <td>0.0</td>\n",
              "      <td>0.0</td>\n",
              "      <td>0.0</td>\n",
              "      <td>0.0</td>\n",
              "      <td>0.0</td>\n",
              "      <td>0.0</td>\n",
              "      <td>0.0</td>\n",
              "      <td>0.0</td>\n",
              "      <td>...</td>\n",
              "      <td>1.0</td>\n",
              "      <td>0.0</td>\n",
              "      <td>67.0</td>\n",
              "      <td>1977.0</td>\n",
              "      <td>0.0</td>\n",
              "      <td>1.0</td>\n",
              "      <td>0.584237</td>\n",
              "      <td>0.447619</td>\n",
              "      <td>8.0</td>\n",
              "      <td>42000.0</td>\n",
              "    </tr>\n",
              "    <tr>\n",
              "      <th>3</th>\n",
              "      <td>0.0</td>\n",
              "      <td>2.0</td>\n",
              "      <td>0.0</td>\n",
              "      <td>0.0</td>\n",
              "      <td>0.0</td>\n",
              "      <td>0.0</td>\n",
              "      <td>0.0</td>\n",
              "      <td>0.0</td>\n",
              "      <td>0.0</td>\n",
              "      <td>0.0</td>\n",
              "      <td>...</td>\n",
              "      <td>1.0</td>\n",
              "      <td>0.0</td>\n",
              "      <td>67.0</td>\n",
              "      <td>1977.0</td>\n",
              "      <td>0.0</td>\n",
              "      <td>1.0</td>\n",
              "      <td>1.492898</td>\n",
              "      <td>1.357627</td>\n",
              "      <td>11.0</td>\n",
              "      <td>38000.0</td>\n",
              "    </tr>\n",
              "    <tr>\n",
              "      <th>4</th>\n",
              "      <td>0.0</td>\n",
              "      <td>2.0</td>\n",
              "      <td>0.0</td>\n",
              "      <td>0.0</td>\n",
              "      <td>0.0</td>\n",
              "      <td>0.0</td>\n",
              "      <td>0.0</td>\n",
              "      <td>0.0</td>\n",
              "      <td>0.0</td>\n",
              "      <td>0.0</td>\n",
              "      <td>...</td>\n",
              "      <td>1.0</td>\n",
              "      <td>0.0</td>\n",
              "      <td>67.0</td>\n",
              "      <td>1977.0</td>\n",
              "      <td>0.0</td>\n",
              "      <td>1.0</td>\n",
              "      <td>1.492898</td>\n",
              "      <td>1.357627</td>\n",
              "      <td>5.0</td>\n",
              "      <td>40000.0</td>\n",
              "    </tr>\n",
              "  </tbody>\n",
              "</table>\n",
              "<p>5 rows × 61 columns</p>\n",
              "</div>\n",
              "      <button class=\"colab-df-convert\" onclick=\"convertToInteractive('df-e4627fe2-c9b3-4665-b156-5cee6e1e725c')\"\n",
              "              title=\"Convert this dataframe to an interactive table.\"\n",
              "              style=\"display:none;\">\n",
              "        \n",
              "  <svg xmlns=\"http://www.w3.org/2000/svg\" height=\"24px\"viewBox=\"0 0 24 24\"\n",
              "       width=\"24px\">\n",
              "    <path d=\"M0 0h24v24H0V0z\" fill=\"none\"/>\n",
              "    <path d=\"M18.56 5.44l.94 2.06.94-2.06 2.06-.94-2.06-.94-.94-2.06-.94 2.06-2.06.94zm-11 1L8.5 8.5l.94-2.06 2.06-.94-2.06-.94L8.5 2.5l-.94 2.06-2.06.94zm10 10l.94 2.06.94-2.06 2.06-.94-2.06-.94-.94-2.06-.94 2.06-2.06.94z\"/><path d=\"M17.41 7.96l-1.37-1.37c-.4-.4-.92-.59-1.43-.59-.52 0-1.04.2-1.43.59L10.3 9.45l-7.72 7.72c-.78.78-.78 2.05 0 2.83L4 21.41c.39.39.9.59 1.41.59.51 0 1.02-.2 1.41-.59l7.78-7.78 2.81-2.81c.8-.78.8-2.07 0-2.86zM5.41 20L4 18.59l7.72-7.72 1.47 1.35L5.41 20z\"/>\n",
              "  </svg>\n",
              "      </button>\n",
              "      \n",
              "  <style>\n",
              "    .colab-df-container {\n",
              "      display:flex;\n",
              "      flex-wrap:wrap;\n",
              "      gap: 12px;\n",
              "    }\n",
              "\n",
              "    .colab-df-convert {\n",
              "      background-color: #E8F0FE;\n",
              "      border: none;\n",
              "      border-radius: 50%;\n",
              "      cursor: pointer;\n",
              "      display: none;\n",
              "      fill: #1967D2;\n",
              "      height: 32px;\n",
              "      padding: 0 0 0 0;\n",
              "      width: 32px;\n",
              "    }\n",
              "\n",
              "    .colab-df-convert:hover {\n",
              "      background-color: #E2EBFA;\n",
              "      box-shadow: 0px 1px 2px rgba(60, 64, 67, 0.3), 0px 1px 3px 1px rgba(60, 64, 67, 0.15);\n",
              "      fill: #174EA6;\n",
              "    }\n",
              "\n",
              "    [theme=dark] .colab-df-convert {\n",
              "      background-color: #3B4455;\n",
              "      fill: #D2E3FC;\n",
              "    }\n",
              "\n",
              "    [theme=dark] .colab-df-convert:hover {\n",
              "      background-color: #434B5C;\n",
              "      box-shadow: 0px 1px 3px 1px rgba(0, 0, 0, 0.15);\n",
              "      filter: drop-shadow(0px 1px 2px rgba(0, 0, 0, 0.3));\n",
              "      fill: #FFFFFF;\n",
              "    }\n",
              "  </style>\n",
              "\n",
              "      <script>\n",
              "        const buttonEl =\n",
              "          document.querySelector('#df-e4627fe2-c9b3-4665-b156-5cee6e1e725c button.colab-df-convert');\n",
              "        buttonEl.style.display =\n",
              "          google.colab.kernel.accessAllowed ? 'block' : 'none';\n",
              "\n",
              "        async function convertToInteractive(key) {\n",
              "          const element = document.querySelector('#df-e4627fe2-c9b3-4665-b156-5cee6e1e725c');\n",
              "          const dataTable =\n",
              "            await google.colab.kernel.invokeFunction('convertToInteractive',\n",
              "                                                     [key], {});\n",
              "          if (!dataTable) return;\n",
              "\n",
              "          const docLinkHtml = 'Like what you see? Visit the ' +\n",
              "            '<a target=\"_blank\" href=https://colab.research.google.com/notebooks/data_table.ipynb>data table notebook</a>'\n",
              "            + ' to learn more about interactive tables.';\n",
              "          element.innerHTML = '';\n",
              "          dataTable['output_type'] = 'display_data';\n",
              "          await google.colab.output.renderOutput(dataTable, element);\n",
              "          const docLink = document.createElement('div');\n",
              "          docLink.innerHTML = docLinkHtml;\n",
              "          element.appendChild(docLink);\n",
              "        }\n",
              "      </script>\n",
              "    </div>\n",
              "  </div>\n",
              "  "
            ]
          },
          "metadata": {},
          "execution_count": 54
        }
      ],
      "source": [
        "col_name = [\"month\",'type','2-room','adjoined flat', 'apartment', 'dbss', 'improved', 'improved-maisonette', 'maisonette', 'model a', 'model a-maisonette', 'model a2', 'multi generation', 'new generation', 'premium apartment', 'premium apartment loft', 'premium maisonette', 'simplified', 'standard', 'terrace', 'type s1', 'type s2',\"AMK\",\"BED\",\"BIS\",\"BBT\",\"BMH\",\"BPJ\",\n",
        "\"BTM\",\"CEN\",\"CCK\",\"CLE\",\"GEY\",\"HOU\",\"JRE\",\"JRW\",\"KAL\",\"MAR\",\n",
        "\"PAS\",\"PUN\",\"QUE\",\"SEM\",\"SKG\",\"SER\",\"TAM\",\"TOA\",\"WOO\",\n",
        "\"YIS\", 'central', 'east', 'north', 'northeast', 'west',\"Area\",\"Lease\",\"market\\hawker?\",\"town maturity\",\"dist to mrt\",\"dist to mall\",\"storey\"]\n",
        "\n",
        "\n",
        "df_X = pd.DataFrame(X.toarray(),columns=col_name)\n",
        "df_X['resale_price'] = y.to_numpy()\n",
        "\n",
        "# df_Xy = df_X.assign(resale_price = y)\n",
        "df_X.head()"
      ]
    },
    {
      "cell_type": "code",
      "execution_count": 55,
      "metadata": {
        "id": "OkNJkOQ5w7mH"
      },
      "outputs": [],
      "source": [
        "period = [3,6,12,24]\n",
        "\n",
        "def test_train(df_X, m):\n",
        "    df_test = df_X[df_X.month == m]\n",
        "    X_test = df_test.drop([\"resale_price\"], axis=1)\n",
        "    y_test = df_test.resale_price\n",
        "    df_train = df_X[(df_X.month >= 0) & (df_X.month <= (m-1))]\n",
        "    X_train = df_train.drop([\"resale_price\"], axis=1)\n",
        "    y_train = df_train.resale_price\n",
        "\n",
        "    return X_train,X_test,y_train,y_test\n"
      ]
    },
    {
      "cell_type": "code",
      "execution_count": 16,
      "metadata": {
        "colab": {
          "base_uri": "https://localhost:8080/",
          "height": 168
        },
        "id": "08DoTSI1w7mH",
        "outputId": "4e7e2782-4253-4732-823a-943cd963bd13"
      },
      "outputs": [
        {
          "output_type": "error",
          "ename": "NameError",
          "evalue": "ignored",
          "traceback": [
            "\u001b[0;31m---------------------------------------------------------------------------\u001b[0m",
            "\u001b[0;31mNameError\u001b[0m                                 Traceback (most recent call last)",
            "\u001b[0;32m<ipython-input-16-c8ff277ea5c9>\u001b[0m in \u001b[0;36m<module>\u001b[0;34m()\u001b[0m\n\u001b[0;32m----> 1\u001b[0;31m \u001b[0mX_test\u001b[0m\u001b[0;34m.\u001b[0m\u001b[0mhead\u001b[0m\u001b[0;34m(\u001b[0m\u001b[0;34m)\u001b[0m\u001b[0;34m\u001b[0m\u001b[0;34m\u001b[0m\u001b[0m\n\u001b[0m",
            "\u001b[0;31mNameError\u001b[0m: name 'X_test' is not defined"
          ]
        }
      ],
      "source": [
        "X_test.head()"
      ]
    },
    {
      "cell_type": "code",
      "execution_count": 12,
      "metadata": {
        "id": "cdOPO5G_w7mH"
      },
      "outputs": [],
      "source": [
        "from sklearn.linear_model import LinearRegression\n",
        "from sklearn.metrics import mean_squared_error, r2_score\n",
        "from sklearn.pipeline import Pipeline\n",
        "from sklearn.linear_model import SGDRegressor\n",
        "from sklearn.preprocessing import StandardScaler\n",
        "from sklearn.preprocessing import MinMaxScaler\n",
        "from sklearn.metrics import mean_absolute_error\n",
        "import sklearn.metrics as metrics\n",
        "from sklearn.preprocessing import PolynomialFeatures \n",
        "from sklearn.linear_model import Ridge\n",
        "from sklearn.preprocessing import FunctionTransformer\n",
        "from sklearn.metrics import mean_squared_error\n",
        "from math import sqrt"
      ]
    },
    {
      "cell_type": "code",
      "execution_count": 56,
      "metadata": {
        "colab": {
          "base_uri": "https://localhost:8080/"
        },
        "id": "IYdE_w0jw7mI",
        "outputId": "2e5c17b5-f6af-463f-c98f-b59924779163"
      },
      "outputs": [
        {
          "output_type": "stream",
          "name": "stdout",
          "text": [
            "R-sq of model:  0.9545388538515791\n",
            "RMSE: 0.14\n",
            "R-sq of predictions:  0.9445751111041706\n",
            "R-sq of model:  0.9493269272694768\n",
            "RMSE: 0.13\n",
            "R-sq of predictions:  0.9398492841318361\n",
            "R-sq of model:  0.9289380684241049\n",
            "RMSE: 0.21\n",
            "R-sq of predictions:  0.8771637358017675\n",
            "R-sq of model:  0.9405710816816215\n",
            "RMSE: 0.22\n",
            "R-sq of predictions:  0.8294929206781111\n"
          ]
        }
      ],
      "source": [
        "def run_model(func):\n",
        "    m = [6,12,36,60]\n",
        "    mse = []\n",
        "    r_sq_train = []\n",
        "    r_sq_pred = []\n",
        "    for i in m:\n",
        "        X_train,X_test,y_train,y_test = func(df_X, i)\n",
        "\n",
        "        scaler = StandardScaler()\n",
        "\n",
        "        pipeline1 = Pipeline([\n",
        "            #('transformer', transformer),\n",
        "            (\"standard Scaling\", scaler),\n",
        "            (\"poly\", PolynomialFeatures(degree = 2)),\n",
        "            # (\"MinMax Scaling\", MinMaxScaler()),\n",
        "            (\"Regression\", Ridge(alpha=2)),\n",
        "        ])\n",
        "\n",
        "        pipeline1.fit(X_train, np.log(y_train))\n",
        "        print(\"R-sq of model: \", pipeline1.score(X_train, np.log(y_train)))\n",
        "        r_sq_train.append(pipeline1.score(X_train, np.log(y_train)))\n",
        "        pred = pipeline1.predict(X_test)\n",
        "        print(\"RMSE: %.2f\" % sqrt(mean_squared_error(pred, np.log(y_test))))\n",
        "        mse.append(sqrt(mean_squared_error(pred, np.log(y_test))))\n",
        "        print(\"R-sq of predictions: \", r2_score(np.log(y_test), pred))\n",
        "        r_sq_pred.append(r2_score(np.log(y_test), pred))\n",
        "\n",
        "\n",
        "        # steps = [('scaler', scaler),('Ridge', Ridge())]\n",
        "        # params = {'Ridge__alpha':np.arange(0.5,100.5,0.5)}\n",
        "        # pipeline = Pipeline(steps)\n",
        "        # grid = GridSearchCV(pipeline, param_grid=params, cv=5)\n",
        "        # grid.fit(X_train,np.log(y_train))\n",
        "        # print('Ridge Cross Validated R^2:',np.mean(cross_val_score(grid,X_test,np.log(y_test))))\n",
        "        # print('Best alpha for month %d is %f ' % (i ,grid.best_params_))\n",
        "\n",
        "    return r_sq_train, r_sq_pred, mse\n",
        "\n",
        "# s = [6,12,36,60]\n",
        "r_sq_train, r_sq_pred, mse = run_model(test_train)\n",
        "# plt.plot(s, r_sq_train)\n",
        "# plt.plot(s, r_sq_pred)\n",
        "# plt.legend(['R-sq of model','R-sq of predictions'])\n",
        "# plt.show()\n",
        "#print(r_sq_pred)"
      ]
    },
    {
      "cell_type": "markdown",
      "source": [
        ""
      ],
      "metadata": {
        "id": "Jaiab-o2l_j5"
      }
    },
    {
      "cell_type": "code",
      "source": [
        "pickle.dump(pipeline, open('best_ridge_poly.pkl', 'wb'))"
      ],
      "metadata": {
        "id": "gQxvHJzmmARB"
      },
      "execution_count": 22,
      "outputs": []
    },
    {
      "cell_type": "code",
      "source": [
        "np.log(233000)"
      ],
      "metadata": {
        "colab": {
          "base_uri": "https://localhost:8080/"
        },
        "id": "GM0dUNcoimmY",
        "outputId": "df564aef-ddfc-4818-ef42-ba6b22878f3b"
      },
      "execution_count": 11,
      "outputs": [
        {
          "output_type": "execute_result",
          "data": {
            "text/plain": [
              "12.358793732547838"
            ]
          },
          "metadata": {},
          "execution_count": 11
        }
      ]
    },
    {
      "cell_type": "code",
      "execution_count": 44,
      "metadata": {
        "colab": {
          "base_uri": "https://localhost:8080/"
        },
        "id": "NXk-_iHGw7mM",
        "outputId": "fee9bdb0-dead-4f69-e143-812bed6b6da2"
      },
      "outputs": [
        {
          "output_type": "stream",
          "name": "stdout",
          "text": [
            "R-sq of model:  0.8907354455952655\n",
            "RMSE: 0.34\n",
            "R-sq of predictions:  -0.23091550356869117\n"
          ]
        }
      ],
      "source": [
        "X_train,X_test,y_train,y_test = test_train(df_X, 60)\n",
        "\n",
        "scaler = StandardScaler()\n",
        "\n",
        "pipeline1 = Pipeline([\n",
        "    #('transformer', transformer),\n",
        "    #(\"standard Scaling\", scaler),\n",
        "    (\"MinMax Scaling\", MinMaxScaler()),\n",
        "    # (\"poly\", PolynomialFeatures(degree = 2)),\n",
        "    (\"Regression\", LinearRegression()),\n",
        "    # (\"Regression\", Ridge(alpha=2.5)),\n",
        "])\n",
        "\n",
        "pipeline1.fit(X_train, np.log(y_train))\n",
        "print(\"R-sq of model: \", pipeline1.score(X_train, np.log(y_train)))\n",
        "pred = pipeline1.predict(X_test)\n",
        "print(\"RMSE: %.2f\" % mean_squared_error(pred, np.log(y_test)))\n",
        "print(\"R-sq of predictions: \", r2_score(np.log(y_test), pred))\n"
      ]
    },
    {
      "cell_type": "code",
      "source": [
        "X_test"
      ],
      "metadata": {
        "colab": {
          "base_uri": "https://localhost:8080/",
          "height": 522
        },
        "id": "zxCMlR9kmpE5",
        "outputId": "c777cf08-cb2e-4e96-d560-b9ab173185c7"
      },
      "execution_count": 46,
      "outputs": [
        {
          "output_type": "execute_result",
          "data": {
            "text/plain": [
              "       month  type  2-room  adjoined flat  apartment  dbss  improved  \\\n",
              "81272   60.0   2.0     0.0            0.0        0.0   0.0       1.0   \n",
              "81273   60.0   2.0     0.0            0.0        0.0   0.0       0.0   \n",
              "81274   60.0   2.0     0.0            0.0        0.0   0.0       0.0   \n",
              "81275   60.0   2.0     0.0            0.0        0.0   0.0       0.0   \n",
              "81276   60.0   2.0     0.0            0.0        0.0   0.0       0.0   \n",
              "...      ...   ...     ...            ...        ...   ...       ...   \n",
              "83302   60.0   5.0     0.0            0.0        0.0   0.0       0.0   \n",
              "83303   60.0   5.0     0.0            0.0        0.0   0.0       0.0   \n",
              "83304   60.0   6.0     0.0            0.0        0.0   0.0       0.0   \n",
              "83305   60.0   6.0     0.0            0.0        0.0   0.0       0.0   \n",
              "83306   60.0   6.0     0.0            0.0        0.0   0.0       0.0   \n",
              "\n",
              "       improved-maisonette  maisonette  model a  ...  north  northeast  west  \\\n",
              "81272                  0.0         0.0      0.0  ...    0.0        1.0   0.0   \n",
              "81273                  0.0         0.0      0.0  ...    0.0        1.0   0.0   \n",
              "81274                  0.0         0.0      0.0  ...    0.0        1.0   0.0   \n",
              "81275                  0.0         0.0      0.0  ...    0.0        1.0   0.0   \n",
              "81276                  0.0         0.0      0.0  ...    0.0        1.0   0.0   \n",
              "...                    ...         ...      ...  ...    ...        ...   ...   \n",
              "83302                  0.0         1.0      0.0  ...    1.0        0.0   0.0   \n",
              "83303                  0.0         1.0      0.0  ...    1.0        0.0   0.0   \n",
              "83304                  0.0         0.0      0.0  ...    1.0        0.0   0.0   \n",
              "83305                  0.0         0.0      0.0  ...    1.0        0.0   0.0   \n",
              "83306                  0.0         0.0      0.0  ...    1.0        0.0   0.0   \n",
              "\n",
              "        Area   Lease  market\\hawker?  town maturity  dist to mrt  \\\n",
              "81272   69.0  1986.0             0.0            1.0     1.280320   \n",
              "81273   82.0  1976.0             0.0            1.0     0.978625   \n",
              "81274   73.0  1976.0             0.0            1.0     0.958323   \n",
              "81275   73.0  1976.0             0.0            1.0     0.958323   \n",
              "81276   82.0  1976.0             0.0            1.0     1.020300   \n",
              "...      ...     ...             ...            ...          ...   \n",
              "83302  146.0  1988.0             0.0            0.0     1.579916   \n",
              "83303  146.0  1988.0             0.0            0.0     1.210017   \n",
              "83304  171.0  1987.0             0.0            0.0     0.775735   \n",
              "83305  151.0  1987.0             0.0            0.0     0.775735   \n",
              "83306  179.0  1987.0             0.0            0.0     0.862270   \n",
              "\n",
              "       dist to mall  storey  \n",
              "81272      1.439377     5.0  \n",
              "81273      0.840821    11.0  \n",
              "81274      0.816326     5.0  \n",
              "81275      0.816326     5.0  \n",
              "81276      0.875762     5.0  \n",
              "...             ...     ...  \n",
              "83302      0.972447     8.0  \n",
              "83303      0.772777     5.0  \n",
              "83304      0.171385     5.0  \n",
              "83305      0.171385     5.0  \n",
              "83306      0.133643     5.0  \n",
              "\n",
              "[2035 rows x 60 columns]"
            ],
            "text/html": [
              "\n",
              "  <div id=\"df-e5d726e6-b101-4107-88a8-4f4b867dbfce\">\n",
              "    <div class=\"colab-df-container\">\n",
              "      <div>\n",
              "<style scoped>\n",
              "    .dataframe tbody tr th:only-of-type {\n",
              "        vertical-align: middle;\n",
              "    }\n",
              "\n",
              "    .dataframe tbody tr th {\n",
              "        vertical-align: top;\n",
              "    }\n",
              "\n",
              "    .dataframe thead th {\n",
              "        text-align: right;\n",
              "    }\n",
              "</style>\n",
              "<table border=\"1\" class=\"dataframe\">\n",
              "  <thead>\n",
              "    <tr style=\"text-align: right;\">\n",
              "      <th></th>\n",
              "      <th>month</th>\n",
              "      <th>type</th>\n",
              "      <th>2-room</th>\n",
              "      <th>adjoined flat</th>\n",
              "      <th>apartment</th>\n",
              "      <th>dbss</th>\n",
              "      <th>improved</th>\n",
              "      <th>improved-maisonette</th>\n",
              "      <th>maisonette</th>\n",
              "      <th>model a</th>\n",
              "      <th>...</th>\n",
              "      <th>north</th>\n",
              "      <th>northeast</th>\n",
              "      <th>west</th>\n",
              "      <th>Area</th>\n",
              "      <th>Lease</th>\n",
              "      <th>market\\hawker?</th>\n",
              "      <th>town maturity</th>\n",
              "      <th>dist to mrt</th>\n",
              "      <th>dist to mall</th>\n",
              "      <th>storey</th>\n",
              "    </tr>\n",
              "  </thead>\n",
              "  <tbody>\n",
              "    <tr>\n",
              "      <th>81272</th>\n",
              "      <td>60.0</td>\n",
              "      <td>2.0</td>\n",
              "      <td>0.0</td>\n",
              "      <td>0.0</td>\n",
              "      <td>0.0</td>\n",
              "      <td>0.0</td>\n",
              "      <td>1.0</td>\n",
              "      <td>0.0</td>\n",
              "      <td>0.0</td>\n",
              "      <td>0.0</td>\n",
              "      <td>...</td>\n",
              "      <td>0.0</td>\n",
              "      <td>1.0</td>\n",
              "      <td>0.0</td>\n",
              "      <td>69.0</td>\n",
              "      <td>1986.0</td>\n",
              "      <td>0.0</td>\n",
              "      <td>1.0</td>\n",
              "      <td>1.280320</td>\n",
              "      <td>1.439377</td>\n",
              "      <td>5.0</td>\n",
              "    </tr>\n",
              "    <tr>\n",
              "      <th>81273</th>\n",
              "      <td>60.0</td>\n",
              "      <td>2.0</td>\n",
              "      <td>0.0</td>\n",
              "      <td>0.0</td>\n",
              "      <td>0.0</td>\n",
              "      <td>0.0</td>\n",
              "      <td>0.0</td>\n",
              "      <td>0.0</td>\n",
              "      <td>0.0</td>\n",
              "      <td>0.0</td>\n",
              "      <td>...</td>\n",
              "      <td>0.0</td>\n",
              "      <td>1.0</td>\n",
              "      <td>0.0</td>\n",
              "      <td>82.0</td>\n",
              "      <td>1976.0</td>\n",
              "      <td>0.0</td>\n",
              "      <td>1.0</td>\n",
              "      <td>0.978625</td>\n",
              "      <td>0.840821</td>\n",
              "      <td>11.0</td>\n",
              "    </tr>\n",
              "    <tr>\n",
              "      <th>81274</th>\n",
              "      <td>60.0</td>\n",
              "      <td>2.0</td>\n",
              "      <td>0.0</td>\n",
              "      <td>0.0</td>\n",
              "      <td>0.0</td>\n",
              "      <td>0.0</td>\n",
              "      <td>0.0</td>\n",
              "      <td>0.0</td>\n",
              "      <td>0.0</td>\n",
              "      <td>0.0</td>\n",
              "      <td>...</td>\n",
              "      <td>0.0</td>\n",
              "      <td>1.0</td>\n",
              "      <td>0.0</td>\n",
              "      <td>73.0</td>\n",
              "      <td>1976.0</td>\n",
              "      <td>0.0</td>\n",
              "      <td>1.0</td>\n",
              "      <td>0.958323</td>\n",
              "      <td>0.816326</td>\n",
              "      <td>5.0</td>\n",
              "    </tr>\n",
              "    <tr>\n",
              "      <th>81275</th>\n",
              "      <td>60.0</td>\n",
              "      <td>2.0</td>\n",
              "      <td>0.0</td>\n",
              "      <td>0.0</td>\n",
              "      <td>0.0</td>\n",
              "      <td>0.0</td>\n",
              "      <td>0.0</td>\n",
              "      <td>0.0</td>\n",
              "      <td>0.0</td>\n",
              "      <td>0.0</td>\n",
              "      <td>...</td>\n",
              "      <td>0.0</td>\n",
              "      <td>1.0</td>\n",
              "      <td>0.0</td>\n",
              "      <td>73.0</td>\n",
              "      <td>1976.0</td>\n",
              "      <td>0.0</td>\n",
              "      <td>1.0</td>\n",
              "      <td>0.958323</td>\n",
              "      <td>0.816326</td>\n",
              "      <td>5.0</td>\n",
              "    </tr>\n",
              "    <tr>\n",
              "      <th>81276</th>\n",
              "      <td>60.0</td>\n",
              "      <td>2.0</td>\n",
              "      <td>0.0</td>\n",
              "      <td>0.0</td>\n",
              "      <td>0.0</td>\n",
              "      <td>0.0</td>\n",
              "      <td>0.0</td>\n",
              "      <td>0.0</td>\n",
              "      <td>0.0</td>\n",
              "      <td>0.0</td>\n",
              "      <td>...</td>\n",
              "      <td>0.0</td>\n",
              "      <td>1.0</td>\n",
              "      <td>0.0</td>\n",
              "      <td>82.0</td>\n",
              "      <td>1976.0</td>\n",
              "      <td>0.0</td>\n",
              "      <td>1.0</td>\n",
              "      <td>1.020300</td>\n",
              "      <td>0.875762</td>\n",
              "      <td>5.0</td>\n",
              "    </tr>\n",
              "    <tr>\n",
              "      <th>...</th>\n",
              "      <td>...</td>\n",
              "      <td>...</td>\n",
              "      <td>...</td>\n",
              "      <td>...</td>\n",
              "      <td>...</td>\n",
              "      <td>...</td>\n",
              "      <td>...</td>\n",
              "      <td>...</td>\n",
              "      <td>...</td>\n",
              "      <td>...</td>\n",
              "      <td>...</td>\n",
              "      <td>...</td>\n",
              "      <td>...</td>\n",
              "      <td>...</td>\n",
              "      <td>...</td>\n",
              "      <td>...</td>\n",
              "      <td>...</td>\n",
              "      <td>...</td>\n",
              "      <td>...</td>\n",
              "      <td>...</td>\n",
              "      <td>...</td>\n",
              "    </tr>\n",
              "    <tr>\n",
              "      <th>83302</th>\n",
              "      <td>60.0</td>\n",
              "      <td>5.0</td>\n",
              "      <td>0.0</td>\n",
              "      <td>0.0</td>\n",
              "      <td>0.0</td>\n",
              "      <td>0.0</td>\n",
              "      <td>0.0</td>\n",
              "      <td>0.0</td>\n",
              "      <td>1.0</td>\n",
              "      <td>0.0</td>\n",
              "      <td>...</td>\n",
              "      <td>1.0</td>\n",
              "      <td>0.0</td>\n",
              "      <td>0.0</td>\n",
              "      <td>146.0</td>\n",
              "      <td>1988.0</td>\n",
              "      <td>0.0</td>\n",
              "      <td>0.0</td>\n",
              "      <td>1.579916</td>\n",
              "      <td>0.972447</td>\n",
              "      <td>8.0</td>\n",
              "    </tr>\n",
              "    <tr>\n",
              "      <th>83303</th>\n",
              "      <td>60.0</td>\n",
              "      <td>5.0</td>\n",
              "      <td>0.0</td>\n",
              "      <td>0.0</td>\n",
              "      <td>0.0</td>\n",
              "      <td>0.0</td>\n",
              "      <td>0.0</td>\n",
              "      <td>0.0</td>\n",
              "      <td>1.0</td>\n",
              "      <td>0.0</td>\n",
              "      <td>...</td>\n",
              "      <td>1.0</td>\n",
              "      <td>0.0</td>\n",
              "      <td>0.0</td>\n",
              "      <td>146.0</td>\n",
              "      <td>1988.0</td>\n",
              "      <td>0.0</td>\n",
              "      <td>0.0</td>\n",
              "      <td>1.210017</td>\n",
              "      <td>0.772777</td>\n",
              "      <td>5.0</td>\n",
              "    </tr>\n",
              "    <tr>\n",
              "      <th>83304</th>\n",
              "      <td>60.0</td>\n",
              "      <td>6.0</td>\n",
              "      <td>0.0</td>\n",
              "      <td>0.0</td>\n",
              "      <td>0.0</td>\n",
              "      <td>0.0</td>\n",
              "      <td>0.0</td>\n",
              "      <td>0.0</td>\n",
              "      <td>0.0</td>\n",
              "      <td>0.0</td>\n",
              "      <td>...</td>\n",
              "      <td>1.0</td>\n",
              "      <td>0.0</td>\n",
              "      <td>0.0</td>\n",
              "      <td>171.0</td>\n",
              "      <td>1987.0</td>\n",
              "      <td>0.0</td>\n",
              "      <td>0.0</td>\n",
              "      <td>0.775735</td>\n",
              "      <td>0.171385</td>\n",
              "      <td>5.0</td>\n",
              "    </tr>\n",
              "    <tr>\n",
              "      <th>83305</th>\n",
              "      <td>60.0</td>\n",
              "      <td>6.0</td>\n",
              "      <td>0.0</td>\n",
              "      <td>0.0</td>\n",
              "      <td>0.0</td>\n",
              "      <td>0.0</td>\n",
              "      <td>0.0</td>\n",
              "      <td>0.0</td>\n",
              "      <td>0.0</td>\n",
              "      <td>0.0</td>\n",
              "      <td>...</td>\n",
              "      <td>1.0</td>\n",
              "      <td>0.0</td>\n",
              "      <td>0.0</td>\n",
              "      <td>151.0</td>\n",
              "      <td>1987.0</td>\n",
              "      <td>0.0</td>\n",
              "      <td>0.0</td>\n",
              "      <td>0.775735</td>\n",
              "      <td>0.171385</td>\n",
              "      <td>5.0</td>\n",
              "    </tr>\n",
              "    <tr>\n",
              "      <th>83306</th>\n",
              "      <td>60.0</td>\n",
              "      <td>6.0</td>\n",
              "      <td>0.0</td>\n",
              "      <td>0.0</td>\n",
              "      <td>0.0</td>\n",
              "      <td>0.0</td>\n",
              "      <td>0.0</td>\n",
              "      <td>0.0</td>\n",
              "      <td>0.0</td>\n",
              "      <td>0.0</td>\n",
              "      <td>...</td>\n",
              "      <td>1.0</td>\n",
              "      <td>0.0</td>\n",
              "      <td>0.0</td>\n",
              "      <td>179.0</td>\n",
              "      <td>1987.0</td>\n",
              "      <td>0.0</td>\n",
              "      <td>0.0</td>\n",
              "      <td>0.862270</td>\n",
              "      <td>0.133643</td>\n",
              "      <td>5.0</td>\n",
              "    </tr>\n",
              "  </tbody>\n",
              "</table>\n",
              "<p>2035 rows × 60 columns</p>\n",
              "</div>\n",
              "      <button class=\"colab-df-convert\" onclick=\"convertToInteractive('df-e5d726e6-b101-4107-88a8-4f4b867dbfce')\"\n",
              "              title=\"Convert this dataframe to an interactive table.\"\n",
              "              style=\"display:none;\">\n",
              "        \n",
              "  <svg xmlns=\"http://www.w3.org/2000/svg\" height=\"24px\"viewBox=\"0 0 24 24\"\n",
              "       width=\"24px\">\n",
              "    <path d=\"M0 0h24v24H0V0z\" fill=\"none\"/>\n",
              "    <path d=\"M18.56 5.44l.94 2.06.94-2.06 2.06-.94-2.06-.94-.94-2.06-.94 2.06-2.06.94zm-11 1L8.5 8.5l.94-2.06 2.06-.94-2.06-.94L8.5 2.5l-.94 2.06-2.06.94zm10 10l.94 2.06.94-2.06 2.06-.94-2.06-.94-.94-2.06-.94 2.06-2.06.94z\"/><path d=\"M17.41 7.96l-1.37-1.37c-.4-.4-.92-.59-1.43-.59-.52 0-1.04.2-1.43.59L10.3 9.45l-7.72 7.72c-.78.78-.78 2.05 0 2.83L4 21.41c.39.39.9.59 1.41.59.51 0 1.02-.2 1.41-.59l7.78-7.78 2.81-2.81c.8-.78.8-2.07 0-2.86zM5.41 20L4 18.59l7.72-7.72 1.47 1.35L5.41 20z\"/>\n",
              "  </svg>\n",
              "      </button>\n",
              "      \n",
              "  <style>\n",
              "    .colab-df-container {\n",
              "      display:flex;\n",
              "      flex-wrap:wrap;\n",
              "      gap: 12px;\n",
              "    }\n",
              "\n",
              "    .colab-df-convert {\n",
              "      background-color: #E8F0FE;\n",
              "      border: none;\n",
              "      border-radius: 50%;\n",
              "      cursor: pointer;\n",
              "      display: none;\n",
              "      fill: #1967D2;\n",
              "      height: 32px;\n",
              "      padding: 0 0 0 0;\n",
              "      width: 32px;\n",
              "    }\n",
              "\n",
              "    .colab-df-convert:hover {\n",
              "      background-color: #E2EBFA;\n",
              "      box-shadow: 0px 1px 2px rgba(60, 64, 67, 0.3), 0px 1px 3px 1px rgba(60, 64, 67, 0.15);\n",
              "      fill: #174EA6;\n",
              "    }\n",
              "\n",
              "    [theme=dark] .colab-df-convert {\n",
              "      background-color: #3B4455;\n",
              "      fill: #D2E3FC;\n",
              "    }\n",
              "\n",
              "    [theme=dark] .colab-df-convert:hover {\n",
              "      background-color: #434B5C;\n",
              "      box-shadow: 0px 1px 3px 1px rgba(0, 0, 0, 0.15);\n",
              "      filter: drop-shadow(0px 1px 2px rgba(0, 0, 0, 0.3));\n",
              "      fill: #FFFFFF;\n",
              "    }\n",
              "  </style>\n",
              "\n",
              "      <script>\n",
              "        const buttonEl =\n",
              "          document.querySelector('#df-e5d726e6-b101-4107-88a8-4f4b867dbfce button.colab-df-convert');\n",
              "        buttonEl.style.display =\n",
              "          google.colab.kernel.accessAllowed ? 'block' : 'none';\n",
              "\n",
              "        async function convertToInteractive(key) {\n",
              "          const element = document.querySelector('#df-e5d726e6-b101-4107-88a8-4f4b867dbfce');\n",
              "          const dataTable =\n",
              "            await google.colab.kernel.invokeFunction('convertToInteractive',\n",
              "                                                     [key], {});\n",
              "          if (!dataTable) return;\n",
              "\n",
              "          const docLinkHtml = 'Like what you see? Visit the ' +\n",
              "            '<a target=\"_blank\" href=https://colab.research.google.com/notebooks/data_table.ipynb>data table notebook</a>'\n",
              "            + ' to learn more about interactive tables.';\n",
              "          element.innerHTML = '';\n",
              "          dataTable['output_type'] = 'display_data';\n",
              "          await google.colab.output.renderOutput(dataTable, element);\n",
              "          const docLink = document.createElement('div');\n",
              "          docLink.innerHTML = docLinkHtml;\n",
              "          element.appendChild(docLink);\n",
              "        }\n",
              "      </script>\n",
              "    </div>\n",
              "  </div>\n",
              "  "
            ]
          },
          "metadata": {},
          "execution_count": 46
        }
      ]
    },
    {
      "cell_type": "code",
      "source": [
        "X_train"
      ],
      "metadata": {
        "colab": {
          "base_uri": "https://localhost:8080/",
          "height": 522
        },
        "id": "5ydin574ogir",
        "outputId": "4098b011-2caa-4748-a251-0a0bfdaa4490"
      },
      "execution_count": 32,
      "outputs": [
        {
          "output_type": "execute_result",
          "data": {
            "text/plain": [
              "       month  type  2-room  adjoined flat  apartment  dbss  improved  \\\n",
              "0        0.0   2.0     0.0            0.0        0.0   0.0       0.0   \n",
              "1        0.0   2.0     0.0            0.0        0.0   0.0       0.0   \n",
              "2        0.0   2.0     0.0            0.0        0.0   0.0       0.0   \n",
              "3        0.0   2.0     0.0            0.0        0.0   0.0       0.0   \n",
              "4        0.0   2.0     0.0            0.0        0.0   0.0       0.0   \n",
              "...      ...   ...     ...            ...        ...   ...       ...   \n",
              "81267   59.0   5.0     0.0            0.0        0.0   0.0       0.0   \n",
              "81268   59.0   5.0     0.0            0.0        0.0   0.0       0.0   \n",
              "81269   59.0   5.0     0.0            0.0        0.0   0.0       0.0   \n",
              "81270   59.0   5.0     0.0            0.0        0.0   0.0       0.0   \n",
              "81271   59.0   5.0     0.0            0.0        0.0   0.0       0.0   \n",
              "\n",
              "       improved-maisonette  maisonette  model a  ...  north  northeast  west  \\\n",
              "0                      0.0         0.0      0.0  ...    0.0        1.0   0.0   \n",
              "1                      0.0         0.0      0.0  ...    0.0        1.0   0.0   \n",
              "2                      0.0         0.0      0.0  ...    0.0        1.0   0.0   \n",
              "3                      0.0         0.0      0.0  ...    0.0        1.0   0.0   \n",
              "4                      0.0         0.0      0.0  ...    0.0        1.0   0.0   \n",
              "...                    ...         ...      ...  ...    ...        ...   ...   \n",
              "81267                  0.0         1.0      0.0  ...    1.0        0.0   0.0   \n",
              "81268                  0.0         1.0      0.0  ...    1.0        0.0   0.0   \n",
              "81269                  0.0         1.0      0.0  ...    1.0        0.0   0.0   \n",
              "81270                  0.0         1.0      0.0  ...    1.0        0.0   0.0   \n",
              "81271                  0.0         1.0      0.0  ...    1.0        0.0   0.0   \n",
              "\n",
              "        Area   Lease  market\\hawker?  town maturity  dist to mrt  \\\n",
              "0       73.0  1976.0             0.0            1.0     0.986748   \n",
              "1       67.0  1977.0             0.0            1.0     0.880909   \n",
              "2       67.0  1977.0             0.0            1.0     0.584237   \n",
              "3       67.0  1977.0             0.0            1.0     1.492898   \n",
              "4       67.0  1977.0             0.0            1.0     1.492898   \n",
              "...      ...     ...             ...            ...          ...   \n",
              "81267  148.0  1988.0             0.0            0.0     1.632764   \n",
              "81268  146.0  1988.0             0.0            0.0     1.574495   \n",
              "81269  146.0  1988.0             0.0            0.0     1.061985   \n",
              "81270  146.0  1988.0             0.0            0.0     1.149543   \n",
              "81271  146.0  1988.0             0.0            0.0     1.149543   \n",
              "\n",
              "       dist to mall  storey  \n",
              "0          0.843877     5.0  \n",
              "1          0.755938     2.0  \n",
              "2          0.447619     8.0  \n",
              "3          1.357627    11.0  \n",
              "4          1.357627     5.0  \n",
              "...             ...     ...  \n",
              "81267      1.154075     5.0  \n",
              "81268      0.930061     2.0  \n",
              "81269      0.783772     5.0  \n",
              "81270      0.817697    11.0  \n",
              "81271      0.817697    11.0  \n",
              "\n",
              "[81272 rows x 60 columns]"
            ],
            "text/html": [
              "\n",
              "  <div id=\"df-7957643a-0586-4c2b-8018-44361f60d8ee\">\n",
              "    <div class=\"colab-df-container\">\n",
              "      <div>\n",
              "<style scoped>\n",
              "    .dataframe tbody tr th:only-of-type {\n",
              "        vertical-align: middle;\n",
              "    }\n",
              "\n",
              "    .dataframe tbody tr th {\n",
              "        vertical-align: top;\n",
              "    }\n",
              "\n",
              "    .dataframe thead th {\n",
              "        text-align: right;\n",
              "    }\n",
              "</style>\n",
              "<table border=\"1\" class=\"dataframe\">\n",
              "  <thead>\n",
              "    <tr style=\"text-align: right;\">\n",
              "      <th></th>\n",
              "      <th>month</th>\n",
              "      <th>type</th>\n",
              "      <th>2-room</th>\n",
              "      <th>adjoined flat</th>\n",
              "      <th>apartment</th>\n",
              "      <th>dbss</th>\n",
              "      <th>improved</th>\n",
              "      <th>improved-maisonette</th>\n",
              "      <th>maisonette</th>\n",
              "      <th>model a</th>\n",
              "      <th>...</th>\n",
              "      <th>north</th>\n",
              "      <th>northeast</th>\n",
              "      <th>west</th>\n",
              "      <th>Area</th>\n",
              "      <th>Lease</th>\n",
              "      <th>market\\hawker?</th>\n",
              "      <th>town maturity</th>\n",
              "      <th>dist to mrt</th>\n",
              "      <th>dist to mall</th>\n",
              "      <th>storey</th>\n",
              "    </tr>\n",
              "  </thead>\n",
              "  <tbody>\n",
              "    <tr>\n",
              "      <th>0</th>\n",
              "      <td>0.0</td>\n",
              "      <td>2.0</td>\n",
              "      <td>0.0</td>\n",
              "      <td>0.0</td>\n",
              "      <td>0.0</td>\n",
              "      <td>0.0</td>\n",
              "      <td>0.0</td>\n",
              "      <td>0.0</td>\n",
              "      <td>0.0</td>\n",
              "      <td>0.0</td>\n",
              "      <td>...</td>\n",
              "      <td>0.0</td>\n",
              "      <td>1.0</td>\n",
              "      <td>0.0</td>\n",
              "      <td>73.0</td>\n",
              "      <td>1976.0</td>\n",
              "      <td>0.0</td>\n",
              "      <td>1.0</td>\n",
              "      <td>0.986748</td>\n",
              "      <td>0.843877</td>\n",
              "      <td>5.0</td>\n",
              "    </tr>\n",
              "    <tr>\n",
              "      <th>1</th>\n",
              "      <td>0.0</td>\n",
              "      <td>2.0</td>\n",
              "      <td>0.0</td>\n",
              "      <td>0.0</td>\n",
              "      <td>0.0</td>\n",
              "      <td>0.0</td>\n",
              "      <td>0.0</td>\n",
              "      <td>0.0</td>\n",
              "      <td>0.0</td>\n",
              "      <td>0.0</td>\n",
              "      <td>...</td>\n",
              "      <td>0.0</td>\n",
              "      <td>1.0</td>\n",
              "      <td>0.0</td>\n",
              "      <td>67.0</td>\n",
              "      <td>1977.0</td>\n",
              "      <td>0.0</td>\n",
              "      <td>1.0</td>\n",
              "      <td>0.880909</td>\n",
              "      <td>0.755938</td>\n",
              "      <td>2.0</td>\n",
              "    </tr>\n",
              "    <tr>\n",
              "      <th>2</th>\n",
              "      <td>0.0</td>\n",
              "      <td>2.0</td>\n",
              "      <td>0.0</td>\n",
              "      <td>0.0</td>\n",
              "      <td>0.0</td>\n",
              "      <td>0.0</td>\n",
              "      <td>0.0</td>\n",
              "      <td>0.0</td>\n",
              "      <td>0.0</td>\n",
              "      <td>0.0</td>\n",
              "      <td>...</td>\n",
              "      <td>0.0</td>\n",
              "      <td>1.0</td>\n",
              "      <td>0.0</td>\n",
              "      <td>67.0</td>\n",
              "      <td>1977.0</td>\n",
              "      <td>0.0</td>\n",
              "      <td>1.0</td>\n",
              "      <td>0.584237</td>\n",
              "      <td>0.447619</td>\n",
              "      <td>8.0</td>\n",
              "    </tr>\n",
              "    <tr>\n",
              "      <th>3</th>\n",
              "      <td>0.0</td>\n",
              "      <td>2.0</td>\n",
              "      <td>0.0</td>\n",
              "      <td>0.0</td>\n",
              "      <td>0.0</td>\n",
              "      <td>0.0</td>\n",
              "      <td>0.0</td>\n",
              "      <td>0.0</td>\n",
              "      <td>0.0</td>\n",
              "      <td>0.0</td>\n",
              "      <td>...</td>\n",
              "      <td>0.0</td>\n",
              "      <td>1.0</td>\n",
              "      <td>0.0</td>\n",
              "      <td>67.0</td>\n",
              "      <td>1977.0</td>\n",
              "      <td>0.0</td>\n",
              "      <td>1.0</td>\n",
              "      <td>1.492898</td>\n",
              "      <td>1.357627</td>\n",
              "      <td>11.0</td>\n",
              "    </tr>\n",
              "    <tr>\n",
              "      <th>4</th>\n",
              "      <td>0.0</td>\n",
              "      <td>2.0</td>\n",
              "      <td>0.0</td>\n",
              "      <td>0.0</td>\n",
              "      <td>0.0</td>\n",
              "      <td>0.0</td>\n",
              "      <td>0.0</td>\n",
              "      <td>0.0</td>\n",
              "      <td>0.0</td>\n",
              "      <td>0.0</td>\n",
              "      <td>...</td>\n",
              "      <td>0.0</td>\n",
              "      <td>1.0</td>\n",
              "      <td>0.0</td>\n",
              "      <td>67.0</td>\n",
              "      <td>1977.0</td>\n",
              "      <td>0.0</td>\n",
              "      <td>1.0</td>\n",
              "      <td>1.492898</td>\n",
              "      <td>1.357627</td>\n",
              "      <td>5.0</td>\n",
              "    </tr>\n",
              "    <tr>\n",
              "      <th>...</th>\n",
              "      <td>...</td>\n",
              "      <td>...</td>\n",
              "      <td>...</td>\n",
              "      <td>...</td>\n",
              "      <td>...</td>\n",
              "      <td>...</td>\n",
              "      <td>...</td>\n",
              "      <td>...</td>\n",
              "      <td>...</td>\n",
              "      <td>...</td>\n",
              "      <td>...</td>\n",
              "      <td>...</td>\n",
              "      <td>...</td>\n",
              "      <td>...</td>\n",
              "      <td>...</td>\n",
              "      <td>...</td>\n",
              "      <td>...</td>\n",
              "      <td>...</td>\n",
              "      <td>...</td>\n",
              "      <td>...</td>\n",
              "      <td>...</td>\n",
              "    </tr>\n",
              "    <tr>\n",
              "      <th>81267</th>\n",
              "      <td>59.0</td>\n",
              "      <td>5.0</td>\n",
              "      <td>0.0</td>\n",
              "      <td>0.0</td>\n",
              "      <td>0.0</td>\n",
              "      <td>0.0</td>\n",
              "      <td>0.0</td>\n",
              "      <td>0.0</td>\n",
              "      <td>1.0</td>\n",
              "      <td>0.0</td>\n",
              "      <td>...</td>\n",
              "      <td>1.0</td>\n",
              "      <td>0.0</td>\n",
              "      <td>0.0</td>\n",
              "      <td>148.0</td>\n",
              "      <td>1988.0</td>\n",
              "      <td>0.0</td>\n",
              "      <td>0.0</td>\n",
              "      <td>1.632764</td>\n",
              "      <td>1.154075</td>\n",
              "      <td>5.0</td>\n",
              "    </tr>\n",
              "    <tr>\n",
              "      <th>81268</th>\n",
              "      <td>59.0</td>\n",
              "      <td>5.0</td>\n",
              "      <td>0.0</td>\n",
              "      <td>0.0</td>\n",
              "      <td>0.0</td>\n",
              "      <td>0.0</td>\n",
              "      <td>0.0</td>\n",
              "      <td>0.0</td>\n",
              "      <td>1.0</td>\n",
              "      <td>0.0</td>\n",
              "      <td>...</td>\n",
              "      <td>1.0</td>\n",
              "      <td>0.0</td>\n",
              "      <td>0.0</td>\n",
              "      <td>146.0</td>\n",
              "      <td>1988.0</td>\n",
              "      <td>0.0</td>\n",
              "      <td>0.0</td>\n",
              "      <td>1.574495</td>\n",
              "      <td>0.930061</td>\n",
              "      <td>2.0</td>\n",
              "    </tr>\n",
              "    <tr>\n",
              "      <th>81269</th>\n",
              "      <td>59.0</td>\n",
              "      <td>5.0</td>\n",
              "      <td>0.0</td>\n",
              "      <td>0.0</td>\n",
              "      <td>0.0</td>\n",
              "      <td>0.0</td>\n",
              "      <td>0.0</td>\n",
              "      <td>0.0</td>\n",
              "      <td>1.0</td>\n",
              "      <td>0.0</td>\n",
              "      <td>...</td>\n",
              "      <td>1.0</td>\n",
              "      <td>0.0</td>\n",
              "      <td>0.0</td>\n",
              "      <td>146.0</td>\n",
              "      <td>1988.0</td>\n",
              "      <td>0.0</td>\n",
              "      <td>0.0</td>\n",
              "      <td>1.061985</td>\n",
              "      <td>0.783772</td>\n",
              "      <td>5.0</td>\n",
              "    </tr>\n",
              "    <tr>\n",
              "      <th>81270</th>\n",
              "      <td>59.0</td>\n",
              "      <td>5.0</td>\n",
              "      <td>0.0</td>\n",
              "      <td>0.0</td>\n",
              "      <td>0.0</td>\n",
              "      <td>0.0</td>\n",
              "      <td>0.0</td>\n",
              "      <td>0.0</td>\n",
              "      <td>1.0</td>\n",
              "      <td>0.0</td>\n",
              "      <td>...</td>\n",
              "      <td>1.0</td>\n",
              "      <td>0.0</td>\n",
              "      <td>0.0</td>\n",
              "      <td>146.0</td>\n",
              "      <td>1988.0</td>\n",
              "      <td>0.0</td>\n",
              "      <td>0.0</td>\n",
              "      <td>1.149543</td>\n",
              "      <td>0.817697</td>\n",
              "      <td>11.0</td>\n",
              "    </tr>\n",
              "    <tr>\n",
              "      <th>81271</th>\n",
              "      <td>59.0</td>\n",
              "      <td>5.0</td>\n",
              "      <td>0.0</td>\n",
              "      <td>0.0</td>\n",
              "      <td>0.0</td>\n",
              "      <td>0.0</td>\n",
              "      <td>0.0</td>\n",
              "      <td>0.0</td>\n",
              "      <td>1.0</td>\n",
              "      <td>0.0</td>\n",
              "      <td>...</td>\n",
              "      <td>1.0</td>\n",
              "      <td>0.0</td>\n",
              "      <td>0.0</td>\n",
              "      <td>146.0</td>\n",
              "      <td>1988.0</td>\n",
              "      <td>0.0</td>\n",
              "      <td>0.0</td>\n",
              "      <td>1.149543</td>\n",
              "      <td>0.817697</td>\n",
              "      <td>11.0</td>\n",
              "    </tr>\n",
              "  </tbody>\n",
              "</table>\n",
              "<p>81272 rows × 60 columns</p>\n",
              "</div>\n",
              "      <button class=\"colab-df-convert\" onclick=\"convertToInteractive('df-7957643a-0586-4c2b-8018-44361f60d8ee')\"\n",
              "              title=\"Convert this dataframe to an interactive table.\"\n",
              "              style=\"display:none;\">\n",
              "        \n",
              "  <svg xmlns=\"http://www.w3.org/2000/svg\" height=\"24px\"viewBox=\"0 0 24 24\"\n",
              "       width=\"24px\">\n",
              "    <path d=\"M0 0h24v24H0V0z\" fill=\"none\"/>\n",
              "    <path d=\"M18.56 5.44l.94 2.06.94-2.06 2.06-.94-2.06-.94-.94-2.06-.94 2.06-2.06.94zm-11 1L8.5 8.5l.94-2.06 2.06-.94-2.06-.94L8.5 2.5l-.94 2.06-2.06.94zm10 10l.94 2.06.94-2.06 2.06-.94-2.06-.94-.94-2.06-.94 2.06-2.06.94z\"/><path d=\"M17.41 7.96l-1.37-1.37c-.4-.4-.92-.59-1.43-.59-.52 0-1.04.2-1.43.59L10.3 9.45l-7.72 7.72c-.78.78-.78 2.05 0 2.83L4 21.41c.39.39.9.59 1.41.59.51 0 1.02-.2 1.41-.59l7.78-7.78 2.81-2.81c.8-.78.8-2.07 0-2.86zM5.41 20L4 18.59l7.72-7.72 1.47 1.35L5.41 20z\"/>\n",
              "  </svg>\n",
              "      </button>\n",
              "      \n",
              "  <style>\n",
              "    .colab-df-container {\n",
              "      display:flex;\n",
              "      flex-wrap:wrap;\n",
              "      gap: 12px;\n",
              "    }\n",
              "\n",
              "    .colab-df-convert {\n",
              "      background-color: #E8F0FE;\n",
              "      border: none;\n",
              "      border-radius: 50%;\n",
              "      cursor: pointer;\n",
              "      display: none;\n",
              "      fill: #1967D2;\n",
              "      height: 32px;\n",
              "      padding: 0 0 0 0;\n",
              "      width: 32px;\n",
              "    }\n",
              "\n",
              "    .colab-df-convert:hover {\n",
              "      background-color: #E2EBFA;\n",
              "      box-shadow: 0px 1px 2px rgba(60, 64, 67, 0.3), 0px 1px 3px 1px rgba(60, 64, 67, 0.15);\n",
              "      fill: #174EA6;\n",
              "    }\n",
              "\n",
              "    [theme=dark] .colab-df-convert {\n",
              "      background-color: #3B4455;\n",
              "      fill: #D2E3FC;\n",
              "    }\n",
              "\n",
              "    [theme=dark] .colab-df-convert:hover {\n",
              "      background-color: #434B5C;\n",
              "      box-shadow: 0px 1px 3px 1px rgba(0, 0, 0, 0.15);\n",
              "      filter: drop-shadow(0px 1px 2px rgba(0, 0, 0, 0.3));\n",
              "      fill: #FFFFFF;\n",
              "    }\n",
              "  </style>\n",
              "\n",
              "      <script>\n",
              "        const buttonEl =\n",
              "          document.querySelector('#df-7957643a-0586-4c2b-8018-44361f60d8ee button.colab-df-convert');\n",
              "        buttonEl.style.display =\n",
              "          google.colab.kernel.accessAllowed ? 'block' : 'none';\n",
              "\n",
              "        async function convertToInteractive(key) {\n",
              "          const element = document.querySelector('#df-7957643a-0586-4c2b-8018-44361f60d8ee');\n",
              "          const dataTable =\n",
              "            await google.colab.kernel.invokeFunction('convertToInteractive',\n",
              "                                                     [key], {});\n",
              "          if (!dataTable) return;\n",
              "\n",
              "          const docLinkHtml = 'Like what you see? Visit the ' +\n",
              "            '<a target=\"_blank\" href=https://colab.research.google.com/notebooks/data_table.ipynb>data table notebook</a>'\n",
              "            + ' to learn more about interactive tables.';\n",
              "          element.innerHTML = '';\n",
              "          dataTable['output_type'] = 'display_data';\n",
              "          await google.colab.output.renderOutput(dataTable, element);\n",
              "          const docLink = document.createElement('div');\n",
              "          docLink.innerHTML = docLinkHtml;\n",
              "          element.appendChild(docLink);\n",
              "        }\n",
              "      </script>\n",
              "    </div>\n",
              "  </div>\n",
              "  "
            ]
          },
          "metadata": {},
          "execution_count": 32
        }
      ]
    },
    {
      "cell_type": "code",
      "source": [
        ""
      ],
      "metadata": {
        "id": "SSHjx0Fcmwyz"
      },
      "execution_count": null,
      "outputs": []
    },
    {
      "cell_type": "code",
      "execution_count": 20,
      "metadata": {
        "id": "w2nJxzuzw7mN"
      },
      "outputs": [],
      "source": [
        "import pickle"
      ]
    },
    {
      "cell_type": "code",
      "execution_count": 21,
      "metadata": {
        "id": "i7KH8MNIw7mN"
      },
      "outputs": [],
      "source": [
        "pickle.dump(pipeline1, open('best_ridge_poly.pkl', 'wb'))"
      ]
    },
    {
      "cell_type": "code",
      "execution_count": null,
      "metadata": {
        "id": "e9N9esZAw7mN",
        "outputId": "fa5b77b3-72e5-4ad2-8a7b-d20ecb4b21c5"
      },
      "outputs": [
        {
          "data": {
            "text/plain": [
              "<AxesSubplot:>"
            ]
          },
          "execution_count": 26,
          "metadata": {},
          "output_type": "execute_result"
        },
        {
          "data": {
            "image/png": "[encoded data removed]",
            "text/plain": [
              "<Figure size 432x288 with 1 Axes>"
            ]
          },
          "metadata": {
            "needs_background": "light"
          },
          "output_type": "display_data"
        }
      ],
      "source": [
        "(pd.Series(pipeline1['Regression'].coef_, index=X_train.columns)\n",
        "   .nlargest(10)\n",
        "   .plot(kind='barh')) "
      ]
    },
    {
      "cell_type": "code",
      "execution_count": null,
      "metadata": {
        "id": "Pc6lP61cw7mN"
      },
      "outputs": [],
      "source": [
        "p = 60\n",
        "df_test = df_X[df_X.month == p]\n",
        "X_test = df_test.drop([\"resale_price\"], axis=1)\n",
        "y_test = df_test.resale_price\n",
        "df_train = df_X[(df_X.month >= 0) & (df_X.month <= (p-1))]\n",
        "X_train = df_train.drop([\"resale_price\"], axis=1)\n",
        "y_train = df_train.resale_price"
      ]
    },
    {
      "cell_type": "code",
      "execution_count": null,
      "metadata": {
        "id": "3xVD35Ezw7mO",
        "outputId": "4825d093-1c40-47ef-94fe-4ab894f79966"
      },
      "outputs": [
        {
          "name": "stdout",
          "output_type": "stream",
          "text": [
            "R-sq of model:  0.9493269556599454\n",
            "RMSE: 938.72\n",
            "R-sq of predictions:  -3008506.1688001114\n"
          ]
        }
      ],
      "source": [
        "\n",
        "\n",
        "p_pipeline = Pipeline([\n",
        "    #('transformer', transformer),\n",
        "    (\"poly\", PolynomialFeatures(degree = 2)),\n",
        "    (\"Regression\", Ridge(alpha=2)),\n",
        "])\n",
        "\n",
        "p_pipeline.fit(X_train, np.log(y_train))\n",
        "print(\"R-sq of model: \", p_pipeline.score(X_train, np.log(y_train)))\n",
        "pred = p_pipeline.predict(X_test)\n",
        "print(\"RMSE: %.2f\" % sqrt(mean_squared_error(pred, np.log(y_test))))\n",
        "print(\"R-sq of predictions: \", r2_score(np.log(y_test), pred))\n"
      ]
    },
    {
      "cell_type": "code",
      "execution_count": null,
      "metadata": {
        "id": "CsE3R9D_w7mO",
        "outputId": "266bc399-0380-47fb-9e02-93c108690738"
      },
      "outputs": [
        {
          "name": "stdout",
          "output_type": "stream",
          "text": [
            "R-sq of model:  0.8948549471500347\n",
            "RMSE: 191204895.10\n",
            "R-sq of predictions:  0.9008723954224308\n"
          ]
        },
        {
          "name": "stderr",
          "output_type": "stream",
          "text": [
            "/usr/local/anaconda3/lib/python3.8/site-packages/sklearn/svm/_base.py:985: ConvergenceWarning: Liblinear failed to converge, increase the number of iterations.\n",
            "  warnings.warn(\"Liblinear failed to converge, increase \"\n"
          ]
        }
      ],
      "source": [
        "from sklearn.svm import LinearSVR\n",
        "from sklearn.metrics import mean_squared_error, r2_score\n",
        "svmr = LinearSVR(epsilon=0, C=100, max_iter=1000000, random_state=0).fit(X_train, y_train)\n",
        "print(\"R-sq of model: \", svmr.score(X_train, np.log(y_train)))\n",
        "pred = svmr.predict(X_test)\n",
        "print(\"RMSE: %.2f\" % mean_squared_error(np.log(y_test), pred))\n",
        "print(\"R-sq of predictions: \", r2_score(np.log(y_test), pred))"
      ]
    },
    {
      "cell_type": "code",
      "execution_count": null,
      "metadata": {
        "id": "CAlExcckw7mQ"
      },
      "outputs": [],
      "source": [
        "from sklearn.svm import LinearSVR\n",
        "from sklearn.metrics import mean_squared_error, r2_score\n",
        "svmr = LinearSVR(epsilon=0, C=1, max_iter=1000000, random_state=0).fit(X_train, np.log(y_train))\n",
        "print(\"R-sq of model: \", svmr.score(X_train, np.log(y_train)))\n",
        "pred = svmr.predict(X_test)\n",
        "print(\"RMSE: %.2f\" % mean_squared_error(np.log(y_test), pred))\n",
        "print(\"R-sq of predictions: \", r2_score(np.log(y_test), pred))"
      ]
    },
    {
      "cell_type": "code",
      "execution_count": null,
      "metadata": {
        "id": "R2Y5D1Adw7mQ"
      },
      "outputs": [],
      "source": [
        "from sklearn.svm import LinearSVR\n",
        "from sklearn.metrics import mean_squared_error, r2_score\n",
        "\n",
        "X_train,X_test,y_train,y_test = test_train(df_X, 60)\n",
        "\n",
        "svmr = LinearSVR(epsilon=0, C=1, max_iter=1000000, random_state=0).fit(X_train, np.log(y_train))\n",
        "print(\"R-sq of model: \", svmr.score(X_train, np.log(y_train)))\n",
        "pred = svmr.predict(X_test)\n",
        "print(\"RMSE: %.2f\" % mean_squared_error(np.log(y_test), pred))\n",
        "print(\"R-sq of predictions: \", r2_score(np.log(y_test), pred))"
      ]
    },
    {
      "cell_type": "code",
      "execution_count": null,
      "metadata": {
        "id": "xT8DwgDlw7mR",
        "outputId": "a68ef979-e1b7-4d58-8593-1ebd217e2c14"
      },
      "outputs": [
        {
          "name": "stdout",
          "output_type": "stream",
          "text": [
            "Ridge Cross Validated R^2: 0.4771880786841235\n"
          ]
        }
      ],
      "source": [
        "from sklearn.model_selection import GridSearchCV\n",
        "from sklearn.model_selection import cross_val_score\n",
        "\n",
        "X_train,X_test,y_train,y_test = test_train(df_X, 6)\n",
        "\n",
        "steps = [('scaler', scaler),(\"poly\", PolynomialFeatures(degree = 2)),('Ridge', Ridge())]\n",
        "params = {'Ridge__alpha':np.arange(0.5,50.5,0.5)}\n",
        "pipeline = Pipeline(steps)\n",
        "grid = GridSearchCV(pipeline, param_grid=params, cv=5, n_jobs = -1)\n",
        "grid.fit(X_train,np.log(y_train))\n",
        "print('Ridge Cross Validated R^2:',np.mean(cross_val_score(grid,X_test,np.log(y_test))))\n"
      ]
    },
    {
      "cell_type": "code",
      "execution_count": null,
      "metadata": {
        "id": "s8bylVzUw7mR",
        "outputId": "2cc98a27-7df6-4b78-d91e-8dad4ac520fb"
      },
      "outputs": [
        {
          "data": {
            "text/plain": [
              "{'Ridge__alpha': 2.5}"
            ]
          },
          "execution_count": 74,
          "metadata": {},
          "output_type": "execute_result"
        }
      ],
      "source": [
        "grid.best_params_"
      ]
    },
    {
      "cell_type": "code",
      "execution_count": null,
      "metadata": {
        "id": "KYEJui3Sw7mW"
      },
      "outputs": [],
      "source": [
        "#pickle.dump(model, open('model.pkl', 'wb'))\n"
      ]
    }
  ],
  "metadata": {
    "interpreter": {
      "hash": "3067ead486e059ec00ffe7555bdb889e6e264a24dc711bf108106cc7baee8d5d"
    },
    "kernelspec": {
      "display_name": "Python 3.8.8",
      "language": "python",
      "name": "python3"
    },
    "language_info": {
      "codemirror_mode": {
        "name": "ipython",
        "version": 3
      },
      "file_extension": ".py",
      "mimetype": "text/x-python",
      "name": "python",
      "nbconvert_exporter": "python",
      "pygments_lexer": "ipython3",
      "version": "3.8.8"
    },
    "orig_nbformat": 4,
    "colab": {
      "name": "final copy.ipynb",
      "provenance": [],
      "collapsed_sections": []
    }
  },
  "nbformat": 4,
  "nbformat_minor": 0
}