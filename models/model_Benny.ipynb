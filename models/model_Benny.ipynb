{
  "cells": [
    {
      "cell_type": "code",
      "source": [
        "from google.colab import drive\n",
        "drive.mount('/content/drive')"
      ],
      "metadata": {
        "id": "bpGKXPgYi0vZ"
      },
      "id": "bpGKXPgYi0vZ",
      "execution_count": null,
      "outputs": []
    },
    {
      "cell_type": "code",
      "execution_count": null,
      "id": "21998c28",
      "metadata": {
        "id": "21998c28"
      },
      "outputs": [],
      "source": [
        "import numpy as np\n",
        "import pandas as pd\n",
        "import matplotlib.pyplot as plt\n",
        "import seaborn as sns"
      ]
    },
    {
      "cell_type": "code",
      "execution_count": null,
      "id": "618018bd",
      "metadata": {
        "id": "618018bd"
      },
      "outputs": [],
      "source": [
        "fpath = '/content/drive/MyDrive/ColabNotebooks/ie4213/latest_hdb.csv'\n",
        "Model = pd.read_csv(fpath, index_col = 0)\n",
        "Model.info()"
      ]
    },
    {
      "cell_type": "code",
      "execution_count": null,
      "id": "06c407da",
      "metadata": {
        "scrolled": true,
        "id": "06c407da"
      },
      "outputs": [],
      "source": [
        "Model.head()"
      ]
    },
    {
      "cell_type": "code",
      "execution_count": null,
      "id": "6965c76e",
      "metadata": {
        "id": "6965c76e"
      },
      "outputs": [],
      "source": [
        "Model_copy = Model.copy()"
      ]
    },
    {
      "cell_type": "markdown",
      "id": "d424e484",
      "metadata": {
        "id": "d424e484"
      },
      "source": [
        "### Month"
      ]
    },
    {
      "cell_type": "code",
      "execution_count": null,
      "id": "7dc8958c",
      "metadata": {
        "id": "7dc8958c"
      },
      "outputs": [],
      "source": [
        "month_list = Model['month']\n",
        "np.unique(month_list)"
      ]
    },
    {
      "cell_type": "code",
      "execution_count": null,
      "id": "8bec1ca0",
      "metadata": {
        "id": "8bec1ca0"
      },
      "outputs": [],
      "source": [
        "# plt.figure(figsize=(45,8))\n",
        "# sns.set_theme(style=\"whitegrid\")\n",
        "# sns.swarmplot(x='month',y='resale_price', data=Model_copy, s=1)"
      ]
    },
    {
      "cell_type": "markdown",
      "id": "1d33c9b5",
      "metadata": {
        "id": "1d33c9b5"
      },
      "source": [
        "### Remaining Lease (Not Applicable) / Lease Commence Date"
      ]
    },
    {
      "cell_type": "code",
      "execution_count": null,
      "id": "a6754fd1",
      "metadata": {
        "id": "a6754fd1"
      },
      "outputs": [],
      "source": [
        "# def lease_convert(string):\n",
        "#     string_list = string.split()\n",
        "#     if len(string_list) == 2:\n",
        "#         return float(string_list[0])\n",
        "#     else:\n",
        "#         year = float(string_list[0])\n",
        "#         month = float(string_list[2])/12\n",
        "#         return year + month"
      ]
    },
    {
      "cell_type": "code",
      "execution_count": null,
      "id": "576f624a",
      "metadata": {
        "id": "576f624a"
      },
      "outputs": [],
      "source": [
        "# rem_lease = Model['remaining_lease']\n",
        "# rem_lease_val = []\n",
        "# for e in rem_lease:\n",
        "#     rem_lease_val.append(lease_convert(e))"
      ]
    },
    {
      "cell_type": "code",
      "execution_count": null,
      "id": "afbf340f",
      "metadata": {
        "id": "afbf340f"
      },
      "outputs": [],
      "source": [
        "# Model_copy['remaining_lease_val'] = rem_lease_val"
      ]
    },
    {
      "cell_type": "code",
      "execution_count": null,
      "id": "0d1b3b14",
      "metadata": {
        "scrolled": true,
        "id": "0d1b3b14"
      },
      "outputs": [],
      "source": [
        "# plt.scatter(Model_copy['remaining_lease_val'],Model_copy['resale_price'])\n",
        "# plt.xlabel('remaining lease_val')\n",
        "# plt.ylabel('resale_price')\n",
        "# plt.show()"
      ]
    },
    {
      "cell_type": "code",
      "execution_count": null,
      "id": "fa34c0c4",
      "metadata": {
        "id": "fa34c0c4"
      },
      "outputs": [],
      "source": [
        "plt.scatter(Model_copy['lease_commence_date'],Model_copy['resale_price'])\n",
        "plt.xlabel('lease_commence_date')\n",
        "plt.ylabel('resale_price')\n",
        "plt.show()"
      ]
    },
    {
      "cell_type": "markdown",
      "id": "a175b268",
      "metadata": {
        "id": "a175b268"
      },
      "source": [
        "### Storey Range"
      ]
    },
    {
      "cell_type": "code",
      "execution_count": null,
      "id": "6fbba677",
      "metadata": {
        "id": "6fbba677"
      },
      "outputs": [],
      "source": [
        "Model['storey_med'].unique()"
      ]
    },
    {
      "cell_type": "code",
      "execution_count": null,
      "id": "082c4719",
      "metadata": {
        "id": "082c4719"
      },
      "outputs": [],
      "source": [
        "plt.scatter(Model_copy['storey_med'],Model_copy['resale_price'])\n",
        "plt.xlabel('storey_med')\n",
        "plt.ylabel('resale_price')\n",
        "plt.show()"
      ]
    },
    {
      "cell_type": "markdown",
      "id": "80395eab",
      "metadata": {
        "id": "80395eab"
      },
      "source": [
        "### Flat Type"
      ]
    },
    {
      "cell_type": "code",
      "execution_count": null,
      "id": "1038bfbb",
      "metadata": {
        "id": "1038bfbb"
      },
      "outputs": [],
      "source": [
        "Model['flat_type'].unique()"
      ]
    },
    {
      "cell_type": "code",
      "execution_count": null,
      "id": "004b00f4",
      "metadata": {
        "id": "004b00f4"
      },
      "outputs": [],
      "source": [
        "# sns.swarmplot(x='storey_range_ave_val',y='resale_price', data=Model_copy, s=1)"
      ]
    },
    {
      "cell_type": "markdown",
      "id": "267de972",
      "metadata": {
        "id": "267de972"
      },
      "source": [
        "### Floor Area Sqm"
      ]
    },
    {
      "cell_type": "code",
      "execution_count": null,
      "id": "bab3d1f0",
      "metadata": {
        "id": "bab3d1f0"
      },
      "outputs": [],
      "source": [
        "plt.scatter(Model_copy['floor_area_sqm'],Model_copy['resale_price'])\n",
        "plt.xlabel('floor_area_sqm')\n",
        "plt.ylabel('resale_price')\n",
        "plt.show()"
      ]
    },
    {
      "cell_type": "markdown",
      "id": "c3cadf14",
      "metadata": {
        "id": "c3cadf14"
      },
      "source": [
        "### Others"
      ]
    },
    {
      "cell_type": "code",
      "execution_count": null,
      "id": "f8da0769",
      "metadata": {
        "id": "f8da0769"
      },
      "outputs": [],
      "source": [
        "Model_copy['resale_price']"
      ]
    },
    {
      "cell_type": "code",
      "execution_count": null,
      "id": "6e08ec94",
      "metadata": {
        "id": "6e08ec94"
      },
      "outputs": [],
      "source": [
        "Model.hist(bins=50, figsize=(10, 8))\n",
        "plt.show()"
      ]
    },
    {
      "cell_type": "code",
      "execution_count": null,
      "id": "4ff6637d",
      "metadata": {
        "id": "4ff6637d"
      },
      "outputs": [],
      "source": [
        "Model_copy.head()"
      ]
    },
    {
      "cell_type": "code",
      "execution_count": null,
      "id": "c7d742b4",
      "metadata": {
        "id": "c7d742b4"
      },
      "outputs": [],
      "source": [
        "from sklearn.preprocessing import OrdinalEncoder\n",
        "from sklearn.preprocessing import OneHotEncoder\n",
        "from sklearn.compose import ColumnTransformer\n",
        "from sklearn.metrics import mean_squared_error\n",
        "from sklearn.metrics import r2_score\n",
        "\n",
        "Model['12month'] = (Model['month'].str.match(\".*-12-.*\"))\n",
        "Model_train = Model[Model['12month'] == False]\n",
        "Model_test = Model[Model['12month'] == True]\n",
        "\n",
        "pipeline = ColumnTransformer([\n",
        "(\"o\", OrdinalEncoder(), [\"month\",\"flat_type\"]),\n",
        "(\"n\", OneHotEncoder(), [\"town\",\"flat_model\",\"market\",\"region\"]),\n",
        "], remainder='passthrough')\n",
        "X_train = pipeline.fit_transform(Model_train.drop([\"resale_price\",\"12month\"], axis=1))\n",
        "y_train = Model_train[\"resale_price\"]\n",
        "X_test = pipeline.fit_transform(Model_test.drop([\"resale_price\",\"12month\"], axis=1))\n",
        "y_test = Model_test[\"resale_price\"]"
      ]
    },
    {
      "cell_type": "code",
      "execution_count": null,
      "id": "23965ce2",
      "metadata": {
        "colab": {
          "base_uri": "https://localhost:8080/"
        },
        "id": "23965ce2",
        "outputId": "e1ad8e59-8566-477d-d80f-e2a873486494"
      },
      "outputs": [
        {
          "output_type": "stream",
          "name": "stdout",
          "text": [
            "RMSE: 174923.99\n",
            "R-sq of predictions:  -0.233590966301487\n"
          ]
        }
      ],
      "source": [
        "from sklearn.linear_model import LinearRegression\n",
        "lr = LinearRegression()\n",
        "lr.fit(X_train, y_train)\n",
        "y_test_pred = lr.predict(X_test)\n",
        "# print(\"Intercept: \", lr.intercept_)\n",
        "# print(\"Coefficient: \", lr.coef_)\n",
        "# print(\"R-sq of model: \", lr.score(X, y))\n",
        "print(\"RMSE: %.2f\" % mean_squared_error(y_test,y_test_pred, squared=False))\n",
        "print(\"R-sq of predictions: \", r2_score(y_test,y_test_pred))"
      ]
    },
    {
      "cell_type": "code",
      "execution_count": null,
      "id": "4a7e5812",
      "metadata": {
        "id": "4a7e5812",
        "colab": {
          "base_uri": "https://localhost:8080/"
        },
        "outputId": "0018fdd6-678b-46fd-ee28-756b2f0a0d2e"
      },
      "outputs": [
        {
          "output_type": "stream",
          "name": "stdout",
          "text": [
            "RMSE: 188701.63\n",
            "R-sq of predictions:  -0.43556775080078447\n"
          ]
        }
      ],
      "source": [
        "from sklearn.preprocessing import PolynomialFeatures\n",
        "poly = PolynomialFeatures(degree=2, include_bias=False)\n",
        "X_poly_train = poly.fit_transform(X_train)\n",
        "X_poly_test = poly.fit_transform(X_test)\n",
        "lr.fit(X_poly_train, y_train)\n",
        "# print(\"Intercept: \", lr.intercept_)\n",
        "# print(\"Coefficient: \", lr.coef_)\n",
        "# print(\"R-sq of model: \", lr.score(X_poly, y))\n",
        "y_test_pred = lr.predict(X_poly_test)\n",
        "print(\"RMSE: %.2f\" % mean_squared_error(y_test,y_test_pred, squared=False))\n",
        "print(\"R-sq of predictions: \", r2_score(y_test,y_test_pred))"
      ]
    },
    {
      "cell_type": "code",
      "execution_count": null,
      "id": "2e00cf1c",
      "metadata": {
        "id": "2e00cf1c"
      },
      "outputs": [],
      "source": [
        "# from sklearn.svm import LinearSVR\n",
        "# from sklearn.preprocessing import StandardScaler\n",
        "# sc_X = StandardScaler()\n",
        "# sc_y = StandardScaler()\n",
        "# X_scale = sc_X.fit_transform(X)\n",
        "# y_scale = sc_y.fit_transform(y)\n",
        "# svmr = LinearSVR(epsilon=0, C=100, max_iter=1000, random_state=0).fit(X_scale, y_scale)\n",
        "# print(\"Intercept: \", svmr.intercept_)\n",
        "# print(\"Coefficient: \", svmr.coef_)\n",
        "# print(\"R-sq of model: \", svmr.score(X_scale, y_scale))"
      ]
    },
    {
      "cell_type": "code",
      "execution_count": null,
      "id": "fed2ea3a",
      "metadata": {
        "id": "fed2ea3a",
        "colab": {
          "base_uri": "https://localhost:8080/"
        },
        "outputId": "c7a88425-59ea-4617-c883-e57ed71901fb"
      },
      "outputs": [
        {
          "output_type": "stream",
          "name": "stdout",
          "text": [
            "RMSE with alpha 0.5 : 176383.22\n",
            "R-sq of predictions with alpha 0.5 :  -0.2542582353618097\n",
            "RMSE with alpha 2 : 176383.21\n",
            "R-sq of predictions with alpha 2 :  -0.25425800167552537\n",
            "RMSE with alpha 5 : 176383.22\n",
            "R-sq of predictions with alpha 5 :  -0.25425812865601527\n",
            "RMSE with alpha 100 : 176383.17\n",
            "R-sq of predictions with alpha 100 :  -0.2542575020138069\n",
            "RMSE with alpha 1000 : 176383.25\n",
            "R-sq of predictions with alpha 1000 :  -0.2542585675848472\n",
            "RMSE with alpha 100000 : 176383.30\n",
            "R-sq of predictions with alpha 100000 :  -0.2542592616536179\n"
          ]
        }
      ],
      "source": [
        "from sklearn.linear_model import Ridge\n",
        "alpha_li = [0.5,2,5,100,1000,100000]\n",
        "for a in alpha_li:\n",
        "    rr = Ridge(alpha=a)\n",
        "    rr.fit(X_poly_train, y_train)\n",
        "    # print(\"Intercept: \", lr.intercept_)\n",
        "    # print(\"Coefficient: \", lr.coef_)\n",
        "    # print(\"R-sq of model with alpha\",a,\": \", lr.score(X_poly, y))\n",
        "    y_test_pred = rr.predict(X_poly_test)\n",
        "    print(\"RMSE with alpha\",a,\": %.2f\" % mean_squared_error(y_test,y_test_pred, squared=False))\n",
        "    print(\"R-sq of predictions with alpha\",a,\": \", r2_score(y_test,y_test_pred))"
      ]
    },
    {
      "cell_type": "markdown",
      "id": "6ec25275",
      "metadata": {
        "id": "6ec25275"
      },
      "source": [
        "### Validation"
      ]
    },
    {
      "cell_type": "code",
      "execution_count": null,
      "id": "4080457e",
      "metadata": {
        "id": "4080457e"
      },
      "outputs": [],
      "source": [
        "from sklearn.model_selection import train_test_split\n",
        "from sklearn.metrics import mean_squared_error\n",
        "from sklearn.metrics import r2_score\n",
        "from sklearn.model_selection import KFold"
      ]
    },
    {
      "cell_type": "code",
      "execution_count": null,
      "id": "1ac9d537",
      "metadata": {
        "id": "1ac9d537"
      },
      "outputs": [],
      "source": [
        "X_train, X_test, y_train, y_test = train_test_split(X, y, train_size=0.1, random_state=6)\n",
        "lr = LinearRegression()\n",
        "lr.fit(X_train, y_train)\n",
        "y_test_pred = lr.predict(X_test)\n",
        "print(\"RMSE: %.2f\" % mean_squared_error(y_test,y_test_pred, squared=False))\n",
        "print(\"R-sq of predictions: \", r2_score(y_test,y_test_pred))"
      ]
    },
    {
      "cell_type": "code",
      "execution_count": null,
      "id": "7ba09e8a",
      "metadata": {
        "id": "7ba09e8a"
      },
      "outputs": [],
      "source": [
        "X_train, X_test, y_train, y_test = train_test_split(X, y, train_size=0.1, random_state=6)\n",
        "poly = PolynomialFeatures(degree=2, include_bias=False)\n",
        "X_train_poly = poly.fit_transform(X_train)\n",
        "X_test_poly = poly.fit_transform(X_test)\n",
        "lr.fit(X_train_poly, y_train)\n",
        "y_test_pred = lr.predict(X_test_poly)\n",
        "print(\"RMSE: %.2f\" % mean_squared_error(y_test,y_test_pred, squared=False))\n",
        "print(\"R-sq of predictions: \", r2_score(y_test,y_test_pred))"
      ]
    },
    {
      "cell_type": "code",
      "source": [
        "kf = KFold(n_splits=10)\n",
        "\n",
        "mse2_list = []\n",
        "score_list = []\n",
        "for train_index, test_index in kf.split(X):\n",
        "    X_train = X[train_index]\n",
        "    X_test = X[test_index]\n",
        "\n",
        "    y_train = y.iloc[train_index]\n",
        "    y_test = y.iloc[test_index]\n",
        "\n",
        "    lm=LinearRegression()\n",
        "    lm.fit(X_train, y_train)\n",
        "\n",
        "    y_test_pred = lm.predict(X_test)\n",
        "    mse = mean_squared_error(y_test, y_test_pred, squared=False)\n",
        "    score = r2_score(y_test,y_test_pred)\n",
        "    mse2_list.append(mse)\n",
        "    score_list.append(score)\n",
        "print(\"RMSE: %.2f\" % np.mean(mse2_list))\n",
        "print(mse2_list)\n",
        "print(score_list)"
      ],
      "metadata": {
        "id": "Y3FGrqbpE6CO"
      },
      "id": "Y3FGrqbpE6CO",
      "execution_count": null,
      "outputs": []
    },
    {
      "cell_type": "code",
      "source": [
        ""
      ],
      "metadata": {
        "id": "d8lX4ds1Ic4A"
      },
      "id": "d8lX4ds1Ic4A",
      "execution_count": null,
      "outputs": []
    }
  ],
  "metadata": {
    "kernelspec": {
      "display_name": "Python 3 (ipykernel)",
      "language": "python",
      "name": "python3"
    },
    "language_info": {
      "codemirror_mode": {
        "name": "ipython",
        "version": 3
      },
      "file_extension": ".py",
      "mimetype": "text/x-python",
      "name": "python",
      "nbconvert_exporter": "python",
      "pygments_lexer": "ipython3",
      "version": "3.8.12"
    },
    "colab": {
      "name": "model-Benny.ipynb",
      "provenance": []
    }
  },
  "nbformat": 4,
  "nbformat_minor": 5
}